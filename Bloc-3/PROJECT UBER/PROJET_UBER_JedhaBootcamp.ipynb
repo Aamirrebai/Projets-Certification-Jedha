{
 "cells": [
  {
   "cell_type": "markdown",
   "metadata": {},
   "source": [
    "<img src=\"https://upload.wikimedia.org/wikipedia/commons/thumb/5/58/Uber_logo_2018.svg/1024px-Uber_logo_2018.svg.png\" alt=\"UBER LOGO\" width=\"50%\" />\n",
    "\n",
    "# UBER Pickups "
   ]
  },
  {
   "cell_type": "markdown",
   "metadata": {},
   "source": [
    "La problématique rencontrée par l'équipe d'Uber découle du constat suivant : les chauffeurs ne sont pas présents dans les zones ou les utilisateurs ont un besoin."
   ]
  },
  {
   "cell_type": "markdown",
   "metadata": {},
   "source": [
    "## Goals 🎯\n",
    "\n",
    "Uber dispose déjà de données sur les collectes dans les grandes villes. Notre objectif est de créer des algorithmes qui détermineront où se trouvent les zones chaudes dans lesquelles les conducteurs doivent se trouver.Nous allons donc:\n",
    "\n",
    "* Créer un algorithme pour trouver des zones chaudes \n",
    "* Visualisez les résultats sur un joli tableau de bord "
   ]
  },
  {
   "cell_type": "code",
   "execution_count": 2,
   "metadata": {},
   "outputs": [],
   "source": [
    "!pip install plotly -q"
   ]
  },
  {
   "cell_type": "code",
   "execution_count": 3,
   "metadata": {},
   "outputs": [],
   "source": [
    "# import librairies\n",
    "import plotly.express as px\n",
    "import plotly.graph_objects as go\n",
    "import plotly.io as pio\n",
    "pio.renderers.default = \"iframe_connected\"\n",
    "import numpy as np\n",
    "import pandas as pd\n",
    "import seaborn as sns\n",
    "from sklearn.preprocessing import StandardScaler\n",
    "from sklearn.cluster import KMeans, DBSCAN\n",
    "from sklearn.metrics import  silhouette_score\n",
    "import matplotlib.pyplot as plt"
   ]
  },
  {
   "cell_type": "code",
   "execution_count": 4,
   "metadata": {},
   "outputs": [],
   "source": [
    "# On merge tous les dataset en un seul\n",
    "data_aprl= pd.read_csv(\"uber-raw-data-apr14.csv\")\n",
    "data_aug= pd.read_csv(\"uber-raw-data-aug14.csv\")\n",
    "data_jun= pd.read_csv(\"uber-raw-data-jun14.csv\")\n",
    "data_jul= pd.read_csv(\"uber-raw-data-jul14.csv\")\n",
    "data_may= pd.read_csv(\"uber-raw-data-may14.csv\")\n",
    "data_sep= pd.read_csv(\"uber-raw-data-sep14.csv\")\n",
    "data= pd.concat([data_aprl, data_aug ,data_jun ,data_jul, data_may, data_sep], ignore_index=True )"
   ]
  },
  {
   "cell_type": "code",
   "execution_count": 5,
   "metadata": {},
   "outputs": [
    {
     "data": {
      "text/html": [
       "<div>\n",
       "<style scoped>\n",
       "    .dataframe tbody tr th:only-of-type {\n",
       "        vertical-align: middle;\n",
       "    }\n",
       "\n",
       "    .dataframe tbody tr th {\n",
       "        vertical-align: top;\n",
       "    }\n",
       "\n",
       "    .dataframe thead th {\n",
       "        text-align: right;\n",
       "    }\n",
       "</style>\n",
       "<table border=\"1\" class=\"dataframe\">\n",
       "  <thead>\n",
       "    <tr style=\"text-align: right;\">\n",
       "      <th></th>\n",
       "      <th>Date/Time</th>\n",
       "      <th>Lat</th>\n",
       "      <th>Lon</th>\n",
       "      <th>Base</th>\n",
       "    </tr>\n",
       "  </thead>\n",
       "  <tbody>\n",
       "    <tr>\n",
       "      <th>0</th>\n",
       "      <td>4/1/2014 0:11:00</td>\n",
       "      <td>40.7690</td>\n",
       "      <td>-73.9549</td>\n",
       "      <td>B02512</td>\n",
       "    </tr>\n",
       "    <tr>\n",
       "      <th>1</th>\n",
       "      <td>4/1/2014 0:17:00</td>\n",
       "      <td>40.7267</td>\n",
       "      <td>-74.0345</td>\n",
       "      <td>B02512</td>\n",
       "    </tr>\n",
       "    <tr>\n",
       "      <th>2</th>\n",
       "      <td>4/1/2014 0:21:00</td>\n",
       "      <td>40.7316</td>\n",
       "      <td>-73.9873</td>\n",
       "      <td>B02512</td>\n",
       "    </tr>\n",
       "    <tr>\n",
       "      <th>3</th>\n",
       "      <td>4/1/2014 0:28:00</td>\n",
       "      <td>40.7588</td>\n",
       "      <td>-73.9776</td>\n",
       "      <td>B02512</td>\n",
       "    </tr>\n",
       "    <tr>\n",
       "      <th>4</th>\n",
       "      <td>4/1/2014 0:33:00</td>\n",
       "      <td>40.7594</td>\n",
       "      <td>-73.9722</td>\n",
       "      <td>B02512</td>\n",
       "    </tr>\n",
       "  </tbody>\n",
       "</table>\n",
       "</div>"
      ],
      "text/plain": [
       "          Date/Time      Lat      Lon    Base\n",
       "0  4/1/2014 0:11:00  40.7690 -73.9549  B02512\n",
       "1  4/1/2014 0:17:00  40.7267 -74.0345  B02512\n",
       "2  4/1/2014 0:21:00  40.7316 -73.9873  B02512\n",
       "3  4/1/2014 0:28:00  40.7588 -73.9776  B02512\n",
       "4  4/1/2014 0:33:00  40.7594 -73.9722  B02512"
      ]
     },
     "execution_count": 5,
     "metadata": {},
     "output_type": "execute_result"
    }
   ],
   "source": [
    "data.head()"
   ]
  },
  {
   "cell_type": "markdown",
   "metadata": {},
   "source": [
    "Chaque ligne dans ce dataset correspond à une commande d'un client "
   ]
  },
  {
   "cell_type": "code",
   "execution_count": 6,
   "metadata": {},
   "outputs": [
    {
     "data": {
      "text/plain": [
       "(4534327, 4)"
      ]
     },
     "execution_count": 6,
     "metadata": {},
     "output_type": "execute_result"
    }
   ],
   "source": [
    "data.shape"
   ]
  },
  {
   "cell_type": "markdown",
   "metadata": {},
   "source": [
    "**Convert Datetime to Year, Month, Day and Day of week**"
   ]
  },
  {
   "cell_type": "code",
   "execution_count": 7,
   "metadata": {},
   "outputs": [],
   "source": [
    "# Create a second column conerning the date and the hour for all the months\n",
    "\n",
    "data['Week'] =pd.to_datetime(data['Date/Time']).dt.isocalendar().week\n",
    "data['Year'] = pd.to_datetime(data['Date/Time']).dt.isocalendar().year\n",
    "data['Month'] = pd.to_datetime(data['Date/Time']).dt.month\n",
    "data['Week_day'] = pd.to_datetime(data['Date/Time']).dt.weekday\n",
    "# The new Date column can be used thanks to the datetime format compare to \n",
    "# previous one\n",
    "data['Date/Time'] = pd.to_datetime(data['Date/Time'])\n",
    "data['Date/Time'].sort_values()\n",
    "data[[\"Hours\",\"Minutes\"]] = pd.DataFrame([(x.hour, x.minute) for x in data[\"Date/Time\"]])"
   ]
  },
  {
   "cell_type": "code",
   "execution_count": 8,
   "metadata": {},
   "outputs": [
    {
     "data": {
      "text/html": [
       "<div>\n",
       "<style scoped>\n",
       "    .dataframe tbody tr th:only-of-type {\n",
       "        vertical-align: middle;\n",
       "    }\n",
       "\n",
       "    .dataframe tbody tr th {\n",
       "        vertical-align: top;\n",
       "    }\n",
       "\n",
       "    .dataframe thead th {\n",
       "        text-align: right;\n",
       "    }\n",
       "</style>\n",
       "<table border=\"1\" class=\"dataframe\">\n",
       "  <thead>\n",
       "    <tr style=\"text-align: right;\">\n",
       "      <th></th>\n",
       "      <th>Date/Time</th>\n",
       "      <th>Lat</th>\n",
       "      <th>Lon</th>\n",
       "      <th>Base</th>\n",
       "      <th>Week</th>\n",
       "      <th>Year</th>\n",
       "      <th>Month</th>\n",
       "      <th>Week_day</th>\n",
       "      <th>Hours</th>\n",
       "      <th>Minutes</th>\n",
       "      <th>weekday_name</th>\n",
       "    </tr>\n",
       "  </thead>\n",
       "  <tbody>\n",
       "    <tr>\n",
       "      <th>0</th>\n",
       "      <td>2014-04-01 00:11:00</td>\n",
       "      <td>40.7690</td>\n",
       "      <td>-73.9549</td>\n",
       "      <td>B02512</td>\n",
       "      <td>14</td>\n",
       "      <td>2014</td>\n",
       "      <td>4</td>\n",
       "      <td>1</td>\n",
       "      <td>0</td>\n",
       "      <td>11</td>\n",
       "      <td>Tuesday</td>\n",
       "    </tr>\n",
       "    <tr>\n",
       "      <th>1</th>\n",
       "      <td>2014-04-01 00:17:00</td>\n",
       "      <td>40.7267</td>\n",
       "      <td>-74.0345</td>\n",
       "      <td>B02512</td>\n",
       "      <td>14</td>\n",
       "      <td>2014</td>\n",
       "      <td>4</td>\n",
       "      <td>1</td>\n",
       "      <td>0</td>\n",
       "      <td>17</td>\n",
       "      <td>Tuesday</td>\n",
       "    </tr>\n",
       "    <tr>\n",
       "      <th>2</th>\n",
       "      <td>2014-04-01 00:21:00</td>\n",
       "      <td>40.7316</td>\n",
       "      <td>-73.9873</td>\n",
       "      <td>B02512</td>\n",
       "      <td>14</td>\n",
       "      <td>2014</td>\n",
       "      <td>4</td>\n",
       "      <td>1</td>\n",
       "      <td>0</td>\n",
       "      <td>21</td>\n",
       "      <td>Tuesday</td>\n",
       "    </tr>\n",
       "    <tr>\n",
       "      <th>3</th>\n",
       "      <td>2014-04-01 00:28:00</td>\n",
       "      <td>40.7588</td>\n",
       "      <td>-73.9776</td>\n",
       "      <td>B02512</td>\n",
       "      <td>14</td>\n",
       "      <td>2014</td>\n",
       "      <td>4</td>\n",
       "      <td>1</td>\n",
       "      <td>0</td>\n",
       "      <td>28</td>\n",
       "      <td>Tuesday</td>\n",
       "    </tr>\n",
       "    <tr>\n",
       "      <th>4</th>\n",
       "      <td>2014-04-01 00:33:00</td>\n",
       "      <td>40.7594</td>\n",
       "      <td>-73.9722</td>\n",
       "      <td>B02512</td>\n",
       "      <td>14</td>\n",
       "      <td>2014</td>\n",
       "      <td>4</td>\n",
       "      <td>1</td>\n",
       "      <td>0</td>\n",
       "      <td>33</td>\n",
       "      <td>Tuesday</td>\n",
       "    </tr>\n",
       "  </tbody>\n",
       "</table>\n",
       "</div>"
      ],
      "text/plain": [
       "            Date/Time      Lat      Lon    Base  Week  Year  Month  Week_day  \\\n",
       "0 2014-04-01 00:11:00  40.7690 -73.9549  B02512    14  2014      4         1   \n",
       "1 2014-04-01 00:17:00  40.7267 -74.0345  B02512    14  2014      4         1   \n",
       "2 2014-04-01 00:21:00  40.7316 -73.9873  B02512    14  2014      4         1   \n",
       "3 2014-04-01 00:28:00  40.7588 -73.9776  B02512    14  2014      4         1   \n",
       "4 2014-04-01 00:33:00  40.7594 -73.9722  B02512    14  2014      4         1   \n",
       "\n",
       "   Hours  Minutes weekday_name  \n",
       "0      0       11      Tuesday  \n",
       "1      0       17      Tuesday  \n",
       "2      0       21      Tuesday  \n",
       "3      0       28      Tuesday  \n",
       "4      0       33      Tuesday  "
      ]
     },
     "execution_count": 8,
     "metadata": {},
     "output_type": "execute_result"
    }
   ],
   "source": [
    "data['weekday_name'] = data['Date/Time'].dt.day_name()\n",
    "data.head()"
   ]
  },
  {
   "cell_type": "code",
   "execution_count": 9,
   "metadata": {},
   "outputs": [
    {
     "name": "stdout",
     "output_type": "stream",
     "text": [
      "Date/Time  missing value 0\n",
      "Lat  missing value 0\n",
      "Lon  missing value 0\n",
      "Base  missing value 0\n",
      "Week  missing value 0\n",
      "Year  missing value 0\n",
      "Month  missing value 0\n",
      "Week_day  missing value 0\n",
      "Hours  missing value 0\n",
      "Minutes  missing value 0\n",
      "weekday_name  missing value 0\n"
     ]
    }
   ],
   "source": [
    "for columns in data:\n",
    "    print(columns,\" missing value\", data[columns].isna().sum() )"
   ]
  },
  {
   "cell_type": "markdown",
   "metadata": {},
   "source": [
    "- No missing values in data"
   ]
  },
  {
   "cell_type": "code",
   "execution_count": 10,
   "metadata": {},
   "outputs": [
    {
     "data": {
      "text/plain": [
       "3    755145\n",
       "4    741139\n",
       "2    696488\n",
       "1    663789\n",
       "5    646114\n",
       "0    541472\n",
       "6    490180\n",
       "Name: Week_day, dtype: int64"
      ]
     },
     "execution_count": 10,
     "metadata": {},
     "output_type": "execute_result"
    }
   ],
   "source": [
    "data.Week_day.value_counts()"
   ]
  },
  {
   "cell_type": "code",
   "execution_count": 11,
   "metadata": {},
   "outputs": [
    {
     "data": {
      "text/plain": [
       "Thursday     755145\n",
       "Friday       741139\n",
       "Wednesday    696488\n",
       "Tuesday      663789\n",
       "Saturday     646114\n",
       "Monday       541472\n",
       "Sunday       490180\n",
       "Name: weekday_name, dtype: int64"
      ]
     },
     "execution_count": 11,
     "metadata": {},
     "output_type": "execute_result"
    }
   ],
   "source": [
    "data.weekday_name.value_counts()"
   ]
  },
  {
   "cell_type": "markdown",
   "metadata": {},
   "source": [
    "Nous voulons regarder la répartition des demandes Uber selon le jour de la semaine et l'heure de la journée, afin d'identifier les horraires les plus cruciaux :"
   ]
  },
  {
   "cell_type": "markdown",
   "metadata": {},
   "source": [
    "**Analyse des trajets par jours de la semaine**"
   ]
  },
  {
   "cell_type": "code",
   "execution_count": 12,
   "metadata": {},
   "outputs": [
    {
     "data": {
      "text/plain": [
       "Text(0.5, 1.0, 'Day repartition of Uber requests for all Weeks')"
      ]
     },
     "execution_count": 12,
     "metadata": {},
     "output_type": "execute_result"
    },
    {
     "data": {
      "image/png": "[encoded data removed]",
      "text/plain": [
       "<Figure size 864x432 with 1 Axes>"
      ]
     },
     "metadata": {
      "needs_background": "light"
     },
     "output_type": "display_data"
    }
   ],
   "source": [
    "plt.figure(figsize=(12,6))\n",
    "sns.countplot(x=\"weekday_name\",data=data)\n",
    "plt.title('Day repartition of Uber requests for all Weeks')"
   ]
  },
  {
   "cell_type": "markdown",
   "metadata": {},
   "source": [
    "**Observation**\n",
    "- Une forte demande le jeudi et vendredi \n",
    "- Moins de demandes le dimanche et lundi, presque la même répartition des demandes pour le reste des jours "
   ]
  },
  {
   "cell_type": "code",
   "execution_count": 13,
   "metadata": {},
   "outputs": [
    {
     "data": {
      "text/plain": [
       "17    336190\n",
       "18    324679\n",
       "16    313400\n",
       "19    294513\n",
       "20    284604\n",
       "21    281460\n",
       "15    275466\n",
       "22    241858\n",
       "14    230625\n",
       "13    195877\n",
       "7     193094\n",
       "8     190504\n",
       "12    170452\n",
       "23    169190\n",
       "11    165703\n",
       "9     159967\n",
       "10    159148\n",
       "6     143213\n",
       "0     103836\n",
       "5      83939\n",
       "1      67227\n",
       "4      55230\n",
       "3      48287\n",
       "2      45865\n",
       "Name: Hours, dtype: int64"
      ]
     },
     "execution_count": 13,
     "metadata": {},
     "output_type": "execute_result"
    }
   ],
   "source": [
    "data.Hours.value_counts()"
   ]
  },
  {
   "cell_type": "markdown",
   "metadata": {},
   "source": [
    "**Analyse des trajets par heures**"
   ]
  },
  {
   "cell_type": "code",
   "execution_count": 14,
   "metadata": {},
   "outputs": [
    {
     "data": {
      "text/plain": [
       "Text(0.5, 1.0, 'Hour repartition of Uber requests for all Days')"
      ]
     },
     "execution_count": 14,
     "metadata": {},
     "output_type": "execute_result"
    },
    {
     "data": {
      "image/png": "[encoded data removed]",
      "text/plain": [
       "<Figure size 864x432 with 1 Axes>"
      ]
     },
     "metadata": {
      "needs_background": "light"
     },
     "output_type": "display_data"
    }
   ],
   "source": [
    "plt.figure(figsize=(12,6))\n",
    "sns.countplot(x=\"Hours\",data=data)\n",
    "plt.title('Hour repartition of Uber requests for all Days')"
   ]
  },
  {
   "cell_type": "markdown",
   "metadata": {},
   "source": [
    "**Observation**\n",
    "- Moins de demande avant 6h\n",
    "- Une augmentation des demandes à partir de 6h du matin, puis stagnant de 9h à 12h \n",
    "- une nouvelle augmentation jusqu'au 18, puis une baisse global jusqu'à la fin de la journée"
   ]
  },
  {
   "cell_type": "markdown",
   "metadata": {},
   "source": [
    "***Analyse approfondie des heures/jours de pointe à New York***\n",
    "\n",
    "Nous allons observer les données pour chaque heure/jour de la semaine afin de voir les tendances pour chaque heure de la journée durant les jours de la semaine. "
   ]
  },
  {
   "cell_type": "code",
   "execution_count": 15,
   "metadata": {},
   "outputs": [
    {
     "data": {
      "text/html": [
       "<div>\n",
       "<style scoped>\n",
       "    .dataframe tbody tr th:only-of-type {\n",
       "        vertical-align: middle;\n",
       "    }\n",
       "\n",
       "    .dataframe tbody tr th {\n",
       "        vertical-align: top;\n",
       "    }\n",
       "\n",
       "    .dataframe thead th {\n",
       "        text-align: right;\n",
       "    }\n",
       "</style>\n",
       "<table border=\"1\" class=\"dataframe\">\n",
       "  <thead>\n",
       "    <tr style=\"text-align: right;\">\n",
       "      <th></th>\n",
       "      <th>Day of week</th>\n",
       "      <th>Hour</th>\n",
       "      <th>Trips</th>\n",
       "    </tr>\n",
       "  </thead>\n",
       "  <tbody>\n",
       "    <tr>\n",
       "      <th>0</th>\n",
       "      <td>Friday</td>\n",
       "      <td>0</td>\n",
       "      <td>13716</td>\n",
       "    </tr>\n",
       "    <tr>\n",
       "      <th>1</th>\n",
       "      <td>Friday</td>\n",
       "      <td>1</td>\n",
       "      <td>8163</td>\n",
       "    </tr>\n",
       "    <tr>\n",
       "      <th>2</th>\n",
       "      <td>Friday</td>\n",
       "      <td>2</td>\n",
       "      <td>5350</td>\n",
       "    </tr>\n",
       "    <tr>\n",
       "      <th>3</th>\n",
       "      <td>Friday</td>\n",
       "      <td>3</td>\n",
       "      <td>6930</td>\n",
       "    </tr>\n",
       "    <tr>\n",
       "      <th>4</th>\n",
       "      <td>Friday</td>\n",
       "      <td>4</td>\n",
       "      <td>8806</td>\n",
       "    </tr>\n",
       "  </tbody>\n",
       "</table>\n",
       "</div>"
      ],
      "text/plain": [
       "  Day of week  Hour  Trips\n",
       "0      Friday     0  13716\n",
       "1      Friday     1   8163\n",
       "2      Friday     2   5350\n",
       "3      Friday     3   6930\n",
       "4      Friday     4   8806"
      ]
     },
     "execution_count": 15,
     "metadata": {},
     "output_type": "execute_result"
    }
   ],
   "source": [
    "data_heures_jours_pointe= data.groupby([\"weekday_name\",\"Hours\"])[\"Date/Time\"].count().reset_index()\n",
    "data_heures_jours_pointe.columns=['Day of week','Hour','Trips']\n",
    "data_heures_jours_pointe.head()"
   ]
  },
  {
   "cell_type": "code",
   "execution_count": 16,
   "metadata": {},
   "outputs": [
    {
     "data": {
      "text/plain": [
       "<AxesSubplot:xlabel='Hour', ylabel='Trips'>"
      ]
     },
     "execution_count": 16,
     "metadata": {},
     "output_type": "execute_result"
    },
    {
     "data": {
      "image/png": "[encoded data removed]",
      "text/plain": [
       "<Figure size 864x432 with 1 Axes>"
      ]
     },
     "metadata": {
      "needs_background": "light"
     },
     "output_type": "display_data"
    }
   ],
   "source": [
    "plt.figure(figsize=(12,6))\n",
    "sns.pointplot(x='Hour',y='Trips',hue='Day of week',data=data_heures_jours_pointe)"
   ]
  },
  {
   "cell_type": "markdown",
   "metadata": {},
   "source": [
    "**Observation**\n",
    "- De 0h à 3h du matin : la plupart des jours ont peu de demande dans cette plage horaire, sauf les samedis et dimanches qui ont ici une demande importante (due évidemment aux personnes qui sortent plus tard le week-end)\n",
    "- De 3h à 5h du matin : pas grand chose à dire, la demande est faible pour tous les jours de la semaine\n",
    "- De 6h à 8h : les demandes sont importantes les jours ouvrés mais beaucoup plus faibles les samedis et dimanches\n",
    "- De 9h à 16h : la répartition est la même pour tous les jours de la semaine\n",
    "- De 17h à 20h : tous les jours sont quasiment égaux, sauf le dimanche qui est inférieur \n",
    "- Fin de journée (22h, 23h) : principalement les vendredis et samedis. Le jeudi est également présent à 22"
   ]
  },
  {
   "cell_type": "markdown",
   "metadata": {},
   "source": [
    "# KMeans \n",
    "*Definition:*\n",
    "> - Separate sample in n groups of equal variance\n",
    "> - Distance between data points and center\n",
    "> - top-down algorithm, starts from sets ends to observations\n",
    "\n",
    "- Nos données sont réparties dans la zone géographique de New York, il y a donc une distance euclidienne.\n",
    "- Nous sommes donc capables d'utiliser la méthode K-Means qui est une technique qui sépare les observations par clusters où chaque observation est considérée comme appartenant à un groupe où la moyenne est la plus proche selon une distance donnée.\n",
    "- Pour savoir le nombre de clusters nous allons utiliser la méthode Elbow, et de la silhouette.\n",
    "\n"
   ]
  },
  {
   "cell_type": "markdown",
   "metadata": {},
   "source": [
    "**Preprocessing of the data**"
   ]
  },
  {
   "cell_type": "code",
   "execution_count": 17,
   "metadata": {},
   "outputs": [
    {
     "data": {
      "text/html": [
       "<div>\n",
       "<style scoped>\n",
       "    .dataframe tbody tr th:only-of-type {\n",
       "        vertical-align: middle;\n",
       "    }\n",
       "\n",
       "    .dataframe tbody tr th {\n",
       "        vertical-align: top;\n",
       "    }\n",
       "\n",
       "    .dataframe thead th {\n",
       "        text-align: right;\n",
       "    }\n",
       "</style>\n",
       "<table border=\"1\" class=\"dataframe\">\n",
       "  <thead>\n",
       "    <tr style=\"text-align: right;\">\n",
       "      <th></th>\n",
       "      <th>Lat</th>\n",
       "      <th>Lon</th>\n",
       "      <th>Week_day</th>\n",
       "      <th>Hours</th>\n",
       "    </tr>\n",
       "  </thead>\n",
       "  <tbody>\n",
       "    <tr>\n",
       "      <th>2663223</th>\n",
       "      <td>40.7297</td>\n",
       "      <td>-74.0022</td>\n",
       "      <td>3</td>\n",
       "      <td>10</td>\n",
       "    </tr>\n",
       "    <tr>\n",
       "      <th>1657035</th>\n",
       "      <td>40.7295</td>\n",
       "      <td>-74.0022</td>\n",
       "      <td>6</td>\n",
       "      <td>0</td>\n",
       "    </tr>\n",
       "    <tr>\n",
       "      <th>2963917</th>\n",
       "      <td>40.7402</td>\n",
       "      <td>-73.9919</td>\n",
       "      <td>4</td>\n",
       "      <td>18</td>\n",
       "    </tr>\n",
       "    <tr>\n",
       "      <th>2591216</th>\n",
       "      <td>40.7430</td>\n",
       "      <td>-73.9931</td>\n",
       "      <td>6</td>\n",
       "      <td>3</td>\n",
       "    </tr>\n",
       "    <tr>\n",
       "      <th>2507430</th>\n",
       "      <td>40.7223</td>\n",
       "      <td>-73.9577</td>\n",
       "      <td>5</td>\n",
       "      <td>22</td>\n",
       "    </tr>\n",
       "  </tbody>\n",
       "</table>\n",
       "</div>"
      ],
      "text/plain": [
       "             Lat      Lon  Week_day  Hours\n",
       "2663223  40.7297 -74.0022         3     10\n",
       "1657035  40.7295 -74.0022         6      0\n",
       "2963917  40.7402 -73.9919         4     18\n",
       "2591216  40.7430 -73.9931         6      3\n",
       "2507430  40.7223 -73.9577         5     22"
      ]
     },
     "execution_count": 17,
     "metadata": {},
     "output_type": "execute_result"
    }
   ],
   "source": [
    "# Nous travaillerons uniquement sur 25000 lignes \n",
    "#car les calculs seraient beaucoup trop longs sur plus de 4M lignes \n",
    "# Nous gardons seulement les colonnes utiles \n",
    "data_sample=data[[\"Lat\", \"Lon\", \"Week_day\",\"Hours\"]].sample(25000)\n",
    "data_sample.head()"
   ]
  },
  {
   "cell_type": "code",
   "execution_count": 18,
   "metadata": {},
   "outputs": [],
   "source": [
    "sc = StandardScaler()\n",
    "X = sc.fit_transform(data_sample[[\"Lat\", \"Lon\"]]) #pour normaliser les variables"
   ]
  },
  {
   "cell_type": "code",
   "execution_count": 19,
   "metadata": {},
   "outputs": [
    {
     "name": "stdout",
     "output_type": "stream",
     "text": [
      "[[-0.24428172 -0.51678883]\n",
      " [-0.24932193 -0.51678883]\n",
      " [ 0.02032895 -0.33571139]\n",
      " [ 0.0908918  -0.35680779]\n",
      " [-0.43076925  0.26553604]]\n"
     ]
    }
   ],
   "source": [
    "print(X[0:5, :])"
   ]
  },
  {
   "cell_type": "code",
   "execution_count": null,
   "metadata": {},
   "outputs": [],
   "source": []
  },
  {
   "cell_type": "markdown",
   "metadata": {},
   "source": [
    "***1.Elbow method***\n",
    "  >- Vérifier si les points de données d'un cluster sont proches de leur centroïde\n",
    "  >- Plus nous obtenons de clusters, moins l'inertie (wcss) sera différente\n",
    "  >- Indique le degré d'homogénéité des valeurs au sein d'un cluster"
   ]
  },
  {
   "cell_type": "markdown",
   "metadata": {},
   "source": [
    "We are going to build our clusters, but to do so, we need to know the optimum number of clusters we need. First use the **Elbow** method to see if we can see how many we need to take as a value for **k**."
   ]
  },
  {
   "cell_type": "code",
   "execution_count": null,
   "metadata": {},
   "outputs": [
    {
     "name": "stdout",
     "output_type": "stream",
     "text": [
      "[35102.594635152185, 24142.247951877587, 19603.10612186493, 16475.224975128534, 13157.554244921346, 10827.015039597529, 9449.553714064876, 8156.61315782165, 7220.0033715053705]\n"
     ]
    }
   ],
   "source": [
    "# Utilisation de la méthode Elbow pour trouver le nombre optimal de clusters\n",
    "wcss =  []\n",
    "for i in range (2,11): \n",
    "    kmeans = KMeans(n_clusters= i)\n",
    "    kmeans.fit(X)\n",
    "    wcss.append(kmeans.inertia_)\n",
    "    \n",
    "print(wcss)"
   ]
  },
  {
   "cell_type": "code",
   "execution_count": null,
   "metadata": {},
   "outputs": [
    {
     "data": {
      "text/html": [
       "<iframe\n",
       "    scrolling=\"no\"\n",
       "    width=\"100%\"\n",
       "    height=\"545px\"\n",
       "    src=\"iframe_figures/figure_21.html\"\n",
       "    frameborder=\"0\"\n",
       "    allowfullscreen\n",
       "></iframe>\n"
      ]
     },
     "metadata": {},
     "output_type": "display_data"
    }
   ],
   "source": [
    "fig = px.line(x = range(2,11), y = wcss)\n",
    "fig.show()"
   ]
  },
  {
   "cell_type": "markdown",
   "metadata": {},
   "source": [
    "**2.Silhouette method**\n",
    "> - Vérifiez si les clusters sont éloignés les uns des autres\n",
    "> - Nous indique à quel point nos clusters sont distincts les uns des autres"
   ]
  },
  {
   "cell_type": "markdown",
   "metadata": {},
   "source": [
    "Then use the **Silhouette** method to see if we can refine our hypothesis for **k**"
   ]
  },
  {
   "cell_type": "code",
   "execution_count": 22,
   "metadata": {},
   "outputs": [
    {
     "name": "stdout",
     "output_type": "stream",
     "text": [
      "[0.7046703066838058, 0.4074990903097684, 0.42610883422033313, 0.4426687016153903, 0.4489358214502594, 0.4651108319008308, 0.4675447874835925, 0.4270943738724437, 0.388196380049986]\n"
     ]
    }
   ],
   "source": [
    "# Utilisation du silhouette_score pour déterminer le nombre optimal de clusters\n",
    "# Il faut commencer à i=2 car le score silhouette \n",
    "#ne peut accepter moins de 2 labels\n",
    "s_score = []\n",
    "for i in range (2,11): \n",
    "    kmeans = KMeans(n_clusters= i)\n",
    "    kmeans.fit(X)\n",
    "    s_score.append(silhouette_score(X, kmeans.predict(X)))\n",
    "\n",
    "print(s_score)"
   ]
  },
  {
   "cell_type": "code",
   "execution_count": 23,
   "metadata": {},
   "outputs": [
    {
     "data": {
      "text/html": [
       "<iframe\n",
       "    scrolling=\"no\"\n",
       "    width=\"100%\"\n",
       "    height=\"545px\"\n",
       "    src=\"iframe_figures/figure_23.html\"\n",
       "    frameborder=\"0\"\n",
       "    allowfullscreen\n",
       "></iframe>\n"
      ]
     },
     "metadata": {},
     "output_type": "display_data"
    }
   ],
   "source": [
    "# Affichage de scores en fonction du nombre de clusters\n",
    "fig = px.bar(x = range(2,11), y = s_score)\n",
    "fig.show()"
   ]
  },
  {
   "cell_type": "code",
   "execution_count": 24,
   "metadata": {
    "collapsed": true,
    "jupyter": {
     "outputs_hidden": true
    },
    "tags": []
   },
   "outputs": [
    {
     "data": {
      "text/plain": [
       "KMeans()"
      ]
     },
     "execution_count": 24,
     "metadata": {},
     "output_type": "execute_result"
    }
   ],
   "source": [
    "# On ré-entraîne un KMeans avec le nombre optimal de clusters\n",
    "kmeans = KMeans(n_clusters= 8)\n",
    "kmeans.fit(X)"
   ]
  },
  {
   "cell_type": "code",
   "execution_count": 25,
   "metadata": {},
   "outputs": [],
   "source": [
    "Cluster_KMeans= kmeans.predict(X)"
   ]
  },
  {
   "cell_type": "code",
   "execution_count": 26,
   "metadata": {},
   "outputs": [],
   "source": [
    "data_sample[\"Cluster_KMeans\"]=Cluster_KMeans.copy()"
   ]
  },
  {
   "cell_type": "code",
   "execution_count": 27,
   "metadata": {},
   "outputs": [
    {
     "data": {
      "text/html": [
       "<div>\n",
       "<style scoped>\n",
       "    .dataframe tbody tr th:only-of-type {\n",
       "        vertical-align: middle;\n",
       "    }\n",
       "\n",
       "    .dataframe tbody tr th {\n",
       "        vertical-align: top;\n",
       "    }\n",
       "\n",
       "    .dataframe thead th {\n",
       "        text-align: right;\n",
       "    }\n",
       "</style>\n",
       "<table border=\"1\" class=\"dataframe\">\n",
       "  <thead>\n",
       "    <tr style=\"text-align: right;\">\n",
       "      <th></th>\n",
       "      <th>Lat</th>\n",
       "      <th>Lon</th>\n",
       "      <th>Week_day</th>\n",
       "      <th>Hours</th>\n",
       "      <th>Cluster_KMeans</th>\n",
       "    </tr>\n",
       "  </thead>\n",
       "  <tbody>\n",
       "    <tr>\n",
       "      <th>2663223</th>\n",
       "      <td>40.7297</td>\n",
       "      <td>-74.0022</td>\n",
       "      <td>3</td>\n",
       "      <td>10</td>\n",
       "      <td>6</td>\n",
       "    </tr>\n",
       "    <tr>\n",
       "      <th>1657035</th>\n",
       "      <td>40.7295</td>\n",
       "      <td>-74.0022</td>\n",
       "      <td>6</td>\n",
       "      <td>0</td>\n",
       "      <td>6</td>\n",
       "    </tr>\n",
       "    <tr>\n",
       "      <th>2963917</th>\n",
       "      <td>40.7402</td>\n",
       "      <td>-73.9919</td>\n",
       "      <td>4</td>\n",
       "      <td>18</td>\n",
       "      <td>6</td>\n",
       "    </tr>\n",
       "    <tr>\n",
       "      <th>2591216</th>\n",
       "      <td>40.7430</td>\n",
       "      <td>-73.9931</td>\n",
       "      <td>6</td>\n",
       "      <td>3</td>\n",
       "      <td>6</td>\n",
       "    </tr>\n",
       "    <tr>\n",
       "      <th>2507430</th>\n",
       "      <td>40.7223</td>\n",
       "      <td>-73.9577</td>\n",
       "      <td>5</td>\n",
       "      <td>22</td>\n",
       "      <td>6</td>\n",
       "    </tr>\n",
       "  </tbody>\n",
       "</table>\n",
       "</div>"
      ],
      "text/plain": [
       "             Lat      Lon  Week_day  Hours  Cluster_KMeans\n",
       "2663223  40.7297 -74.0022         3     10               6\n",
       "1657035  40.7295 -74.0022         6      0               6\n",
       "2963917  40.7402 -73.9919         4     18               6\n",
       "2591216  40.7430 -73.9931         6      3               6\n",
       "2507430  40.7223 -73.9577         5     22               6"
      ]
     },
     "execution_count": 27,
     "metadata": {},
     "output_type": "execute_result"
    }
   ],
   "source": [
    "data_sample.head()"
   ]
  },
  {
   "cell_type": "code",
   "execution_count": 28,
   "metadata": {},
   "outputs": [
    {
     "data": {
      "text/plain": [
       "6    10344\n",
       "1     9503\n",
       "0     2396\n",
       "3      945\n",
       "2      766\n",
       "4      716\n",
       "5      260\n",
       "7       70\n",
       "Name: Cluster_KMeans, dtype: int64"
      ]
     },
     "execution_count": 28,
     "metadata": {},
     "output_type": "execute_result"
    }
   ],
   "source": [
    "data_sample.Cluster_KMeans.value_counts()"
   ]
  },
  {
   "cell_type": "markdown",
   "metadata": {},
   "source": [
    "Bien que les deux méthodes essaient de déterminer dans quelle mesure nos données sont bien divisées, elles proposent deux approches opposées.\n",
    "\n",
    "La méthode Elbow essaie de voir si chaque point de données d'un cluster sont proches les uns des autres . La Silhouette essaie de déterminer à quelle distance se trouve chaque groupe (et donc à quel point ils sont significatifs).\n",
    "\n",
    "\n",
    "- Grâce à c'est deux méthodes nous sommes maintenant en mesure de définir le nombre de clusters qui est de 8."
   ]
  },
  {
   "cell_type": "code",
   "execution_count": 29,
   "metadata": {},
   "outputs": [
    {
     "data": {
      "text/html": [
       "<iframe\n",
       "    scrolling=\"no\"\n",
       "    width=\"100%\"\n",
       "    height=\"545px\"\n",
       "    src=\"iframe_figures/figure_29.html\"\n",
       "    frameborder=\"0\"\n",
       "    allowfullscreen\n",
       "></iframe>\n"
      ]
     },
     "metadata": {},
     "output_type": "display_data"
    }
   ],
   "source": [
    "# Mask réalisé pour une map sur un créneau horaire défini :  à 17h \n",
    "fig=px.scatter_mapbox(data_sample[data_sample[\"Hours\"]==17], lat=\"Lat\", lon=\"Lon\", color=\"Cluster_KMeans\",mapbox_style=\"carto-positron\")\n",
    "fig.show()"
   ]
  },
  {
   "cell_type": "code",
   "execution_count": 30,
   "metadata": {
    "tags": []
   },
   "outputs": [
    {
     "data": {
      "text/html": [
       "<iframe\n",
       "    scrolling=\"no\"\n",
       "    width=\"100%\"\n",
       "    height=\"545px\"\n",
       "    src=\"iframe_figures/figure_30.html\"\n",
       "    frameborder=\"0\"\n",
       "    allowfullscreen\n",
       "></iframe>\n"
      ]
     },
     "metadata": {},
     "output_type": "display_data"
    }
   ],
   "source": [
    "# Mask réalisé pour une map sur un créneau horaire défini : sur tout le vendredi  \n",
    " \n",
    "\n",
    "fig = px.scatter_mapbox(data_sample[data_sample[\"Week_day\"]==4].sort_values(by=['Week_day', 'Hours']),\n",
    "                        lat='Lat',\n",
    "                        lon='Lon',\n",
    "                        color=\"Cluster_KMeans\",\n",
    "                        animation_frame = 'Hours',\n",
    "                        zoom=9,\n",
    "                        mapbox_style = 'carto-positron')\n",
    "\n",
    "fig.show(renderer='iframe')"
   ]
  },
  {
   "cell_type": "code",
   "execution_count": 31,
   "metadata": {},
   "outputs": [
    {
     "data": {
      "text/html": [
       "<iframe\n",
       "    scrolling=\"no\"\n",
       "    width=\"100%\"\n",
       "    height=\"545px\"\n",
       "    src=\"iframe_figures/figure_31.html\"\n",
       "    frameborder=\"0\"\n",
       "    allowfullscreen\n",
       "></iframe>\n"
      ]
     },
     "metadata": {},
     "output_type": "display_data"
    }
   ],
   "source": [
    "# map sur un créneau horaire défini : sur tous les jours de la semaine\n",
    "fig = px.scatter_mapbox(data_sample.sort_values(by=['Week_day']),\n",
    "                        lat='Lat',\n",
    "                        lon='Lon',\n",
    "                        color=\"Cluster_KMeans\",\n",
    "                        animation_frame = 'Week_day',\n",
    "                        zoom=9,\n",
    "                        mapbox_style = 'carto-positron')\n",
    "\n",
    "fig.show(renderer='iframe')\n"
   ]
  },
  {
   "cell_type": "markdown",
   "metadata": {},
   "source": [
    "- Maintenant nous pouvons visualiser les données de notre modèle K-means on peut voir qu'il a divisé un ensemble de données en différents « paquets » homogènes en fonction de K.\n",
    "- 8 clusters ont été définis avec un nombre de point très dense dans le nord et le sud de MANHATTAN ( cluster 1;3;6; ) à n'importe quel jour/heure de la semaine entraînant une demande constante de chauffeur\n",
    "\n",
    "- On constate cependant que certains clusters ne nécessitent pas une présence accrue des chauffeurs car la demande semble moins importante (clusters 0;2;5;4;7).\n",
    " \n",
    "- Il est donc préférable de planifier une grosse flottes de véhicules sur les points stratégiques, clusters (0;1;3;4;8 )comme le centre de New York ou la demande est constante mais également sur les aéroports en fonction des pîques d'affluence.\n",
    "\n",
    "\n",
    "- KMeans est utile pour faire une séparation mais il ne renseigne pas sûr, c'est pour ça on va essayer de péciser plus en utilsant la methode DBSCAN.\n"
   ]
  },
  {
   "cell_type": "markdown",
   "metadata": {
    "tags": []
   },
   "source": [
    "# DBSCAN\n",
    "> - Créer un cluster en fonction de la proximité de chaque échantillon les uns des autres\n",
    "> - Densité des points de données dans l'espace\n",
    "\n",
    "- L’algorithme DBSCAN utilise 2 paramètres : la distance epsilon (une distance physique de chaque point) et le nombre minimum de points “min_sample” (taille de cluster minimale) devant se trouver dans un rayon epsilon pour que ces points soient considérés comme un cluster.\n",
    "- Cette méthode est parfaite pour les données spatiales latitude-longitude.\n"
   ]
  },
  {
   "cell_type": "code",
   "execution_count": 33,
   "metadata": {},
   "outputs": [
    {
     "data": {
      "text/plain": [
       "DBSCAN(eps=0.15, metric='manhattan', min_samples=100)"
      ]
     },
     "execution_count": 33,
     "metadata": {},
     "output_type": "execute_result"
    }
   ],
   "source": [
    "from sklearn.cluster import DBSCAN\n",
    "\n",
    "db = DBSCAN(eps=0.15, min_samples=100, metric=\"manhattan\")\n",
    "\n",
    "db.fit(X)"
   ]
  },
  {
   "cell_type": "code",
   "execution_count": 34,
   "metadata": {},
   "outputs": [
    {
     "data": {
      "text/plain": [
       "array([-1,  0,  1,  2,  3,  4,  5])"
      ]
     },
     "execution_count": 34,
     "metadata": {},
     "output_type": "execute_result"
    }
   ],
   "source": [
    "np.unique(db.labels_)"
   ]
  },
  {
   "cell_type": "code",
   "execution_count": 35,
   "metadata": {},
   "outputs": [
    {
     "data": {
      "text/html": [
       "<div>\n",
       "<style scoped>\n",
       "    .dataframe tbody tr th:only-of-type {\n",
       "        vertical-align: middle;\n",
       "    }\n",
       "\n",
       "    .dataframe tbody tr th {\n",
       "        vertical-align: top;\n",
       "    }\n",
       "\n",
       "    .dataframe thead th {\n",
       "        text-align: right;\n",
       "    }\n",
       "</style>\n",
       "<table border=\"1\" class=\"dataframe\">\n",
       "  <thead>\n",
       "    <tr style=\"text-align: right;\">\n",
       "      <th></th>\n",
       "      <th>Lat</th>\n",
       "      <th>Lon</th>\n",
       "      <th>Week_day</th>\n",
       "      <th>Hours</th>\n",
       "      <th>Cluster_KMeans</th>\n",
       "      <th>cluster</th>\n",
       "    </tr>\n",
       "  </thead>\n",
       "  <tbody>\n",
       "    <tr>\n",
       "      <th>2663223</th>\n",
       "      <td>40.7297</td>\n",
       "      <td>-74.0022</td>\n",
       "      <td>3</td>\n",
       "      <td>10</td>\n",
       "      <td>6</td>\n",
       "      <td>0</td>\n",
       "    </tr>\n",
       "    <tr>\n",
       "      <th>1657035</th>\n",
       "      <td>40.7295</td>\n",
       "      <td>-74.0022</td>\n",
       "      <td>6</td>\n",
       "      <td>0</td>\n",
       "      <td>6</td>\n",
       "      <td>0</td>\n",
       "    </tr>\n",
       "    <tr>\n",
       "      <th>2963917</th>\n",
       "      <td>40.7402</td>\n",
       "      <td>-73.9919</td>\n",
       "      <td>4</td>\n",
       "      <td>18</td>\n",
       "      <td>6</td>\n",
       "      <td>0</td>\n",
       "    </tr>\n",
       "    <tr>\n",
       "      <th>2591216</th>\n",
       "      <td>40.7430</td>\n",
       "      <td>-73.9931</td>\n",
       "      <td>6</td>\n",
       "      <td>3</td>\n",
       "      <td>6</td>\n",
       "      <td>0</td>\n",
       "    </tr>\n",
       "    <tr>\n",
       "      <th>2507430</th>\n",
       "      <td>40.7223</td>\n",
       "      <td>-73.9577</td>\n",
       "      <td>5</td>\n",
       "      <td>22</td>\n",
       "      <td>6</td>\n",
       "      <td>1</td>\n",
       "    </tr>\n",
       "  </tbody>\n",
       "</table>\n",
       "</div>"
      ],
      "text/plain": [
       "             Lat      Lon  Week_day  Hours  Cluster_KMeans  cluster\n",
       "2663223  40.7297 -74.0022         3     10               6        0\n",
       "1657035  40.7295 -74.0022         6      0               6        0\n",
       "2963917  40.7402 -73.9919         4     18               6        0\n",
       "2591216  40.7430 -73.9931         6      3               6        0\n",
       "2507430  40.7223 -73.9577         5     22               6        1"
      ]
     },
     "execution_count": 35,
     "metadata": {},
     "output_type": "execute_result"
    }
   ],
   "source": [
    "data_sample[\"cluster\"] = db.labels_\n",
    "data_sample.head()"
   ]
  },
  {
   "cell_type": "code",
   "execution_count": 36,
   "metadata": {},
   "outputs": [
    {
     "data": {
      "text/html": [
       "<iframe\n",
       "    scrolling=\"no\"\n",
       "    width=\"100%\"\n",
       "    height=\"545px\"\n",
       "    src=\"iframe_figures/figure_36.html\"\n",
       "    frameborder=\"0\"\n",
       "    allowfullscreen\n",
       "></iframe>\n"
      ]
     },
     "metadata": {},
     "output_type": "display_data"
    }
   ],
   "source": [
    "# Mask réalisé pour une map sur un créneau horaire défini :  à 17h \n",
    "\n",
    "fig = px.scatter_mapbox(\n",
    "       data_sample[data_sample[\"Hours\"]==17].loc[data_sample.cluster != -1, :], \n",
    "        lat=\"Lat\", \n",
    "        lon=\"Lon\",\n",
    "        color=\"cluster\",\n",
    "        mapbox_style=\"carto-positron\"\n",
    ")\n",
    "\n",
    "fig.show()"
   ]
  },
  {
   "cell_type": "code",
   "execution_count": 37,
   "metadata": {},
   "outputs": [
    {
     "name": "stderr",
     "output_type": "stream",
     "text": [
      "/tmp/ipykernel_50/2688037613.py:3: UserWarning:\n",
      "\n",
      "Boolean Series key will be reindexed to match DataFrame index.\n",
      "\n"
     ]
    },
    {
     "data": {
      "text/html": [
       "<iframe\n",
       "    scrolling=\"no\"\n",
       "    width=\"100%\"\n",
       "    height=\"545px\"\n",
       "    src=\"iframe_figures/figure_37.html\"\n",
       "    frameborder=\"0\"\n",
       "    allowfullscreen\n",
       "></iframe>\n"
      ]
     },
     "metadata": {},
     "output_type": "display_data"
    }
   ],
   "source": [
    "# Mask réalisé pour une map sur un créneau horaire défini : sur toutes les heures de vendredi\n",
    "fig = px.scatter_mapbox(\n",
    "        data_sample[data_sample[\"Week_day\"]==4].sort_values(by=['Week_day', 'Hours'])[data_sample.cluster!= -1], \n",
    "        lat=\"Lat\", \n",
    "        lon=\"Lon\",\n",
    "        color=\"cluster\",\n",
    "        animation_frame = 'Hours',\n",
    "        zoom=9,\n",
    "        mapbox_style=\"carto-positron\"\n",
    ")\n",
    "\n",
    "fig.show(renderer='iframe')"
   ]
  },
  {
   "cell_type": "code",
   "execution_count": 38,
   "metadata": {},
   "outputs": [
    {
     "name": "stderr",
     "output_type": "stream",
     "text": [
      "/tmp/ipykernel_50/1518944512.py:2: UserWarning:\n",
      "\n",
      "Boolean Series key will be reindexed to match DataFrame index.\n",
      "\n"
     ]
    },
    {
     "data": {
      "text/html": [
       "<iframe\n",
       "    scrolling=\"no\"\n",
       "    width=\"100%\"\n",
       "    height=\"545px\"\n",
       "    src=\"iframe_figures/figure_38.html\"\n",
       "    frameborder=\"0\"\n",
       "    allowfullscreen\n",
       "></iframe>\n"
      ]
     },
     "metadata": {},
     "output_type": "display_data"
    }
   ],
   "source": [
    "# map sur un créneau horaire défini : sur tous les jours de la semaine\n",
    "fig = px.scatter_mapbox(data_sample.sort_values(by=['Week_day', 'Hours'])[data_sample.cluster!= -1],\n",
    "                        lat='Lat',\n",
    "                        lon='Lon',\n",
    "                        color='cluster',\n",
    "                        animation_frame = 'Week_day',\n",
    "                        zoom=9,\n",
    "                        mapbox_style = 'carto-positron')\n",
    "\n",
    "fig.show(renderer='iframe')"
   ]
  },
  {
   "cell_type": "code",
   "execution_count": 39,
   "metadata": {},
   "outputs": [
    {
     "name": "stderr",
     "output_type": "stream",
     "text": [
      "/tmp/ipykernel_79/3961952269.py:1: UserWarning:\n",
      "\n",
      "Boolean Series key will be reindexed to match DataFrame index.\n",
      "\n"
     ]
    },
    {
     "data": {
      "text/html": [
       "<iframe\n",
       "    scrolling=\"no\"\n",
       "    width=\"100%\"\n",
       "    height=\"545px\"\n",
       "    src=\"iframe_figures/figure_39.html\"\n",
       "    frameborder=\"0\"\n",
       "    allowfullscreen\n",
       "></iframe>\n"
      ]
     },
     "metadata": {},
     "output_type": "display_data"
    }
   ],
   "source": [
    "# map sur un créneau horaire défini : sur toutes heures  jours de la semaine\n",
    "fig = px.scatter_mapbox(data_sample.sort_values(by=['Week_day', 'Hours'])[data_sample.cluster!= -1],\n",
    "                        lat='Lat',\n",
    "                        lon='Lon',\n",
    "                        color='cluster',\n",
    "                        animation_frame = 'Hours',\n",
    "                        zoom=9,\n",
    "                        mapbox_style = 'carto-positron')\n",
    "\n",
    "fig.show(renderer='iframe')"
   ]
  },
  {
   "cell_type": "markdown",
   "metadata": {},
   "source": [
    "- Pour DBSCAN, nous ne pouvons pas définir le nombre de clusters attendu en paramètre car l'algorithme essaie de trouver lui-même le nombre de clusters.\n",
    "\n",
    "- DBSCAN crée des clusters de plus forte densitée et catégorise les points non clusterisé comme du bruit qui sont représentés comme des outliers.\n"
   ]
  },
  {
   "cell_type": "markdown",
   "metadata": {},
   "source": [
    "# Conclusion\n",
    "- DBSCAN a mis en évidence nos données de façon concentrées et nous a permis de déterminer l'emplacement exact ou devrait se placer les chauffeurs Uber afin de répondre au mieux aux attentes des clients et limiter au maximum le temps d'attente comme les aéroports, Le Grand Army Plaza , Meatpacking District, le Theater District, Midtown et Midtown EST.\n",
    "- Pour finir, le model DBSCAN permettra à Uber de placer ses véhicules de façon stratégique en complémentarité avec le model K-means, qui lui indiquera les zones chaudes à couvrir par les chauffeurs pour satisfaire au maximum la demande."
   ]
  }
 ],
 "metadata": {
  "kernelspec": {
   "display_name": "Python 3 (ipykernel)",
   "language": "python",
   "name": "python3"
  },
  "language_info": {
   "codemirror_mode": {
    "name": "ipython",
    "version": 3
   },
   "file_extension": ".py",
   "mimetype": "text/x-python",
   "name": "python",
   "nbconvert_exporter": "python",
   "pygments_lexer": "ipython3",
   "version": "3.9.7"
  },
  "toc-showtags": false
 },
 "nbformat": 4,
 "nbformat_minor": 4
}
