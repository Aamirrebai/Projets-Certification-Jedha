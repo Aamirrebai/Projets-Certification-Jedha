{
  "cells": [
    {
      "cell_type": "markdown",
      "metadata": {
        "id": "0eiKSLYG8XvO",
        "jp-MarkdownHeadingCollapsed": true,
        "tags": []
      },
      "source": [
        "# Challenge  : predict conversions 🏆🏆\n",
        "\n",
        "This is the template that shows the different steps of the challenge. In this notebook, all the training/predictions steps are implemented for a very basic model (logistic regression with only one variable). Please use this template and feel free to change the preprocessing/training steps to get the model with the best f1-score ! May the force be with you 🧨🧨  \n",
        "\n",
        "**For a detailed description of this project, please refer to *02-Conversion_rate_challenge.ipynb*.**"
      ]
    },
    {
      "cell_type": "markdown",
      "metadata": {
        "id": "M326JrPRux1K"
      },
      "source": [
        "# Import libraries"
      ]
    },
    {
      "cell_type": "code",
      "execution_count": 39,
      "metadata": {
        "id": "AGhdl7Bt2xZd"
      },
      "outputs": [],
      "source": [
        "!pip install plotly -q\n",
        "import pandas as pd\n",
        "import numpy as np\n",
        "from sklearn.ensemble import RandomForestClassifier\n",
        "from sklearn.tree import DecisionTreeClassifier\n",
        "from sklearn.model_selection import train_test_split\n",
        "from sklearn.impute import SimpleImputer\n",
        "from sklearn.preprocessing import StandardScaler, OneHotEncoder\n",
        "from sklearn.compose import ColumnTransformer\n",
        "from sklearn.linear_model import LogisticRegression\n",
        "from sklearn.metrics import f1_score, confusion_matrix, accuracy_score\n",
        "from sklearn.model_selection import cross_val_score, GridSearchCV\n",
        "from sklearn.pipeline import Pipeline\n",
        "from sklearn.metrics import r2_score, mean_squared_error,classification_report\n",
        "import warnings\n",
        "import seaborn as sns\n",
        "import matplotlib.pyplot as plt\n",
        "import plotly.express as px\n",
        "import plotly.graph_objects as go\n",
        "import plotly.io as pio\n",
        "# setting Jedha color palette as default\n",
        "pio.templates[\"jedha\"] = go.layout.Template(\n",
        "    layout_colorway=[\"#4B9AC7\", \"#4BE8E0\", \"#9DD4F3\", \"#97FBF6\", \"#2A7FAF\", \"#23B1AB\", \"#0E3449\", \"#015955\"]\n",
        ")\n",
        "pio.templates.default = \"jedha\"\n",
        "pio.renderers.default = \"iframe\" # to be replaced by \"iframe\" if working on JULIE\n",
        "from IPython.display import display\n",
        "warnings.filterwarnings(\"ignore\")\n",
        "sns.set()"
      ]
    },
    {
      "cell_type": "markdown",
      "metadata": {
        "id": "LHgro65rxKF7"
      },
      "source": [
        "# Read file with labels"
      ]
    },
    {
      "cell_type": "code",
      "execution_count": 40,
      "metadata": {
        "colab": {
          "base_uri": "https://localhost:8080/"
        },
        "id": "W1AU8AH8u0qd",
        "outputId": "1d260fe2-1ea5-4436-9df3-7f6c10279f8d"
      },
      "outputs": [
        {
          "output_type": "stream",
          "name": "stdout",
          "text": [
            "Number of rows and columns: (284580, 6)\n"
          ]
        }
      ],
      "source": [
        "data = pd.read_csv('/content/conversion_data_train (1).csv')\n",
        "print('Number of rows and columns:', data.shape)"
      ]
    },
    {
      "cell_type": "code",
      "execution_count": 41,
      "metadata": {
        "colab": {
          "base_uri": "https://localhost:8080/",
          "height": 206
        },
        "id": "Yzf8lTwkux1M",
        "outputId": "79a281a3-b5cc-46f6-c495-c89e68a76da0"
      },
      "outputs": [
        {
          "output_type": "execute_result",
          "data": {
            "text/plain": [
              "   country  age  new_user  source  total_pages_visited  converted\n",
              "0    China   22         1  Direct                    2          0\n",
              "1       UK   21         1     Ads                    3          0\n",
              "2  Germany   20         0     Seo                   14          1\n",
              "3       US   23         1     Seo                    3          0\n",
              "4       US   28         1  Direct                    3          0"
            ],
            "text/html": [
              "\n",
              "  <div id=\"df-14bd7376-916d-4e0c-a63a-55dd042694ca\">\n",
              "    <div class=\"colab-df-container\">\n",
              "      <div>\n",
              "<style scoped>\n",
              "    .dataframe tbody tr th:only-of-type {\n",
              "        vertical-align: middle;\n",
              "    }\n",
              "\n",
              "    .dataframe tbody tr th {\n",
              "        vertical-align: top;\n",
              "    }\n",
              "\n",
              "    .dataframe thead th {\n",
              "        text-align: right;\n",
              "    }\n",
              "</style>\n",
              "<table border=\"1\" class=\"dataframe\">\n",
              "  <thead>\n",
              "    <tr style=\"text-align: right;\">\n",
              "      <th></th>\n",
              "      <th>country</th>\n",
              "      <th>age</th>\n",
              "      <th>new_user</th>\n",
              "      <th>source</th>\n",
              "      <th>total_pages_visited</th>\n",
              "      <th>converted</th>\n",
              "    </tr>\n",
              "  </thead>\n",
              "  <tbody>\n",
              "    <tr>\n",
              "      <th>0</th>\n",
              "      <td>China</td>\n",
              "      <td>22</td>\n",
              "      <td>1</td>\n",
              "      <td>Direct</td>\n",
              "      <td>2</td>\n",
              "      <td>0</td>\n",
              "    </tr>\n",
              "    <tr>\n",
              "      <th>1</th>\n",
              "      <td>UK</td>\n",
              "      <td>21</td>\n",
              "      <td>1</td>\n",
              "      <td>Ads</td>\n",
              "      <td>3</td>\n",
              "      <td>0</td>\n",
              "    </tr>\n",
              "    <tr>\n",
              "      <th>2</th>\n",
              "      <td>Germany</td>\n",
              "      <td>20</td>\n",
              "      <td>0</td>\n",
              "      <td>Seo</td>\n",
              "      <td>14</td>\n",
              "      <td>1</td>\n",
              "    </tr>\n",
              "    <tr>\n",
              "      <th>3</th>\n",
              "      <td>US</td>\n",
              "      <td>23</td>\n",
              "      <td>1</td>\n",
              "      <td>Seo</td>\n",
              "      <td>3</td>\n",
              "      <td>0</td>\n",
              "    </tr>\n",
              "    <tr>\n",
              "      <th>4</th>\n",
              "      <td>US</td>\n",
              "      <td>28</td>\n",
              "      <td>1</td>\n",
              "      <td>Direct</td>\n",
              "      <td>3</td>\n",
              "      <td>0</td>\n",
              "    </tr>\n",
              "  </tbody>\n",
              "</table>\n",
              "</div>\n",
              "      <button class=\"colab-df-convert\" onclick=\"convertToInteractive('df-14bd7376-916d-4e0c-a63a-55dd042694ca')\"\n",
              "              title=\"Convert this dataframe to an interactive table.\"\n",
              "              style=\"display:none;\">\n",
              "        \n",
              "  <svg xmlns=\"http://www.w3.org/2000/svg\" height=\"24px\"viewBox=\"0 0 24 24\"\n",
              "       width=\"24px\">\n",
              "    <path d=\"M0 0h24v24H0V0z\" fill=\"none\"/>\n",
              "    <path d=\"M18.56 5.44l.94 2.06.94-2.06 2.06-.94-2.06-.94-.94-2.06-.94 2.06-2.06.94zm-11 1L8.5 8.5l.94-2.06 2.06-.94-2.06-.94L8.5 2.5l-.94 2.06-2.06.94zm10 10l.94 2.06.94-2.06 2.06-.94-2.06-.94-.94-2.06-.94 2.06-2.06.94z\"/><path d=\"M17.41 7.96l-1.37-1.37c-.4-.4-.92-.59-1.43-.59-.52 0-1.04.2-1.43.59L10.3 9.45l-7.72 7.72c-.78.78-.78 2.05 0 2.83L4 21.41c.39.39.9.59 1.41.59.51 0 1.02-.2 1.41-.59l7.78-7.78 2.81-2.81c.8-.78.8-2.07 0-2.86zM5.41 20L4 18.59l7.72-7.72 1.47 1.35L5.41 20z\"/>\n",
              "  </svg>\n",
              "      </button>\n",
              "      \n",
              "  <style>\n",
              "    .colab-df-container {\n",
              "      display:flex;\n",
              "      flex-wrap:wrap;\n",
              "      gap: 12px;\n",
              "    }\n",
              "\n",
              "    .colab-df-convert {\n",
              "      background-color: #E8F0FE;\n",
              "      border: none;\n",
              "      border-radius: 50%;\n",
              "      cursor: pointer;\n",
              "      display: none;\n",
              "      fill: #1967D2;\n",
              "      height: 32px;\n",
              "      padding: 0 0 0 0;\n",
              "      width: 32px;\n",
              "    }\n",
              "\n",
              "    .colab-df-convert:hover {\n",
              "      background-color: #E2EBFA;\n",
              "      box-shadow: 0px 1px 2px rgba(60, 64, 67, 0.3), 0px 1px 3px 1px rgba(60, 64, 67, 0.15);\n",
              "      fill: #174EA6;\n",
              "    }\n",
              "\n",
              "    [theme=dark] .colab-df-convert {\n",
              "      background-color: #3B4455;\n",
              "      fill: #D2E3FC;\n",
              "    }\n",
              "\n",
              "    [theme=dark] .colab-df-convert:hover {\n",
              "      background-color: #434B5C;\n",
              "      box-shadow: 0px 1px 3px 1px rgba(0, 0, 0, 0.15);\n",
              "      filter: drop-shadow(0px 1px 2px rgba(0, 0, 0, 0.3));\n",
              "      fill: #FFFFFF;\n",
              "    }\n",
              "  </style>\n",
              "\n",
              "      <script>\n",
              "        const buttonEl =\n",
              "          document.querySelector('#df-14bd7376-916d-4e0c-a63a-55dd042694ca button.colab-df-convert');\n",
              "        buttonEl.style.display =\n",
              "          google.colab.kernel.accessAllowed ? 'block' : 'none';\n",
              "\n",
              "        async function convertToInteractive(key) {\n",
              "          const element = document.querySelector('#df-14bd7376-916d-4e0c-a63a-55dd042694ca');\n",
              "          const dataTable =\n",
              "            await google.colab.kernel.invokeFunction('convertToInteractive',\n",
              "                                                     [key], {});\n",
              "          if (!dataTable) return;\n",
              "\n",
              "          const docLinkHtml = 'Like what you see? Visit the ' +\n",
              "            '<a target=\"_blank\" href=https://colab.research.google.com/notebooks/data_table.ipynb>data table notebook</a>'\n",
              "            + ' to learn more about interactive tables.';\n",
              "          element.innerHTML = '';\n",
              "          dataTable['output_type'] = 'display_data';\n",
              "          await google.colab.output.renderOutput(dataTable, element);\n",
              "          const docLink = document.createElement('div');\n",
              "          docLink.innerHTML = docLinkHtml;\n",
              "          element.appendChild(docLink);\n",
              "        }\n",
              "      </script>\n",
              "    </div>\n",
              "  </div>\n",
              "  "
            ]
          },
          "metadata": {},
          "execution_count": 41
        }
      ],
      "source": [
        "data.head()"
      ]
    },
    {
      "cell_type": "code",
      "execution_count": 42,
      "metadata": {
        "colab": {
          "base_uri": "https://localhost:8080/"
        },
        "id": "wyVGfry8ux1N",
        "outputId": "d1ccd334-b483-4ac4-9093-b8b034b1e871"
      },
      "outputs": [
        {
          "output_type": "stream",
          "name": "stdout",
          "text": [
            "<class 'pandas.core.frame.DataFrame'>\n",
            "RangeIndex: 284580 entries, 0 to 284579\n",
            "Data columns (total 6 columns):\n",
            " #   Column               Non-Null Count   Dtype \n",
            "---  ------               --------------   ----- \n",
            " 0   country              284580 non-null  object\n",
            " 1   age                  284580 non-null  int64 \n",
            " 2   new_user             284580 non-null  int64 \n",
            " 3   source               284580 non-null  object\n",
            " 4   total_pages_visited  284580 non-null  int64 \n",
            " 5   converted            284580 non-null  int64 \n",
            "dtypes: int64(4), object(2)\n",
            "memory usage: 13.0+ MB\n"
          ]
        }
      ],
      "source": [
        "data.info()"
      ]
    },
    {
      "cell_type": "markdown",
      "metadata": {
        "id": "ArgeA6RDux1N"
      },
      "source": [
        "- Pas de valeurs manquantes "
      ]
    },
    {
      "cell_type": "code",
      "execution_count": 43,
      "metadata": {
        "colab": {
          "base_uri": "https://localhost:8080/"
        },
        "id": "QO5F50IPux1O",
        "outputId": "1668516b-cbf3-4f60-fd00-8a8ad8ea9e40"
      },
      "outputs": [
        {
          "output_type": "execute_result",
          "data": {
            "text/plain": [
              "[123, 111, 79, 77, 73, 72, 70, 70, 69, 68]"
            ]
          },
          "metadata": {},
          "execution_count": 43
        }
      ],
      "source": [
        "sorted(data['age'],reverse=True)[:10]"
      ]
    },
    {
      "cell_type": "markdown",
      "metadata": {
        "id": "v5e50u3bux1O"
      },
      "source": [
        "- Il y a deux âges irréalistes (123 et  111) donc je vais les supprimer."
      ]
    },
    {
      "cell_type": "code",
      "execution_count": 44,
      "metadata": {
        "colab": {
          "base_uri": "https://localhost:8080/"
        },
        "id": "vyzY-QoYux1O",
        "outputId": "e193bad2-fd84-4cf9-ad05-a49ef1148382"
      },
      "outputs": [
        {
          "output_type": "stream",
          "name": "stdout",
          "text": [
            "        country  age  new_user source  total_pages_visited  converted\n",
            "233196  Germany  123         0    Seo                   15          1\n",
            "      country  age  new_user source  total_pages_visited  converted\n",
            "11331      UK  111         0    Ads                   10          1\n"
          ]
        }
      ],
      "source": [
        "print(data.loc[data['age']==123])\n",
        "print(data.loc[data['age']==111])"
      ]
    },
    {
      "cell_type": "code",
      "execution_count": 45,
      "metadata": {
        "id": "76Ba1cUNux1P"
      },
      "outputs": [],
      "source": [
        "data.drop([233196,11331],inplace=True)"
      ]
    },
    {
      "cell_type": "code",
      "execution_count": 46,
      "metadata": {
        "colab": {
          "base_uri": "https://localhost:8080/",
          "height": 397
        },
        "id": "Y53Nobojux1P",
        "outputId": "e0425f02-bf2f-4f95-8abc-ddc3f8523662"
      },
      "outputs": [
        {
          "output_type": "execute_result",
          "data": {
            "text/plain": [
              "<matplotlib.axes._subplots.AxesSubplot at 0x7fde63a46c10>"
            ]
          },
          "metadata": {},
          "execution_count": 46
        },
        {
          "output_type": "display_data",
          "data": {
            "text/plain": [
              "<Figure size 1080x360 with 1 Axes>"
            ],
            "image/png": "[encoded data removed]"
          },
          "metadata": {}
        }
      ],
      "source": [
        "data_country = data.groupby(['country']).mean()\n",
        "data_country['converted'].plot(kind='bar',\n",
        "                    title='NB de converti par pays en moyenne',\n",
        "                    ylabel='',\n",
        "                    xlabel='',\n",
        "                    color=['darkred','black','darkblue','darkgreen'],\n",
        "                    figsize=(15, 5),\n",
        "                    legend = True)"
      ]
    },
    {
      "cell_type": "markdown",
      "metadata": {
        "id": "gh-p45y4ux1P"
      },
      "source": [
        "- les gens se convertissent plus en Germany, Royaume-Uni suivi des États-Unis"
      ]
    },
    {
      "cell_type": "code",
      "execution_count": 47,
      "metadata": {
        "colab": {
          "base_uri": "https://localhost:8080/",
          "height": 303
        },
        "id": "VyBnz3Szux1P",
        "outputId": "e1269a8d-876d-4e98-d804-9ca814637480"
      },
      "outputs": [
        {
          "output_type": "execute_result",
          "data": {
            "text/plain": [
              "<matplotlib.axes._subplots.AxesSubplot at 0x7fde639e1e90>"
            ]
          },
          "metadata": {},
          "execution_count": 47
        },
        {
          "output_type": "display_data",
          "data": {
            "text/plain": [
              "<Figure size 432x288 with 1 Axes>"
            ],
            "image/png": "[encoded data removed]"
          },
          "metadata": {}
        }
      ],
      "source": [
        "sns.barplot(x='source',y='converted',data=data)"
      ]
    },
    {
      "cell_type": "markdown",
      "metadata": {
        "id": "Q_pcB8FSux1Q"
      },
      "source": [
        "- La plupart des gens viennent des ADS, suivis du Seo, puis Direct Sorce."
      ]
    },
    {
      "cell_type": "code",
      "execution_count": 48,
      "metadata": {
        "colab": {
          "base_uri": "https://localhost:8080/",
          "height": 359
        },
        "id": "F4S3jN5rux1Q",
        "outputId": "165ea6b2-f902-4750-e976-827f81d19451"
      },
      "outputs": [
        {
          "output_type": "display_data",
          "data": {
            "text/plain": [
              "<Figure size 1080x360 with 1 Axes>"
            ],
            "image/png": "[encoded data removed]"
          },
          "metadata": {}
        }
      ],
      "source": [
        "age_converted = (data['converted'] == 1)\n",
        "age_converted = data.loc[age_converted,:]\n",
        "age_converted\n",
        "\n",
        "data_age_converted = age_converted.groupby(['age']).count()\n",
        "data_age_converted['converted'].plot(kind='bar',\n",
        "                    title='âge des personnes converti',\n",
        "                    ylabel='personne converti',\n",
        "                    xlabel='âge',\n",
        "                    figsize=(15, 5),\n",
        "                    legend = True)\n",
        "plt.show()"
      ]
    },
    {
      "cell_type": "markdown",
      "metadata": {
        "id": "5wZsRRRoux1Q"
      },
      "source": [
        "- l'age des utilisateurs converti varie principalement entre 17 et 37 ans on remarque egalement que nous avons des données aberrante avec des âge allant jusqu'a 123 ans"
      ]
    },
    {
      "cell_type": "code",
      "execution_count": 49,
      "metadata": {
        "colab": {
          "base_uri": "https://localhost:8080/",
          "height": 285
        },
        "id": "gsCdGZfAux1Q",
        "outputId": "ac5cbbef-215b-4f7e-b006-b949455f0adf"
      },
      "outputs": [
        {
          "output_type": "execute_result",
          "data": {
            "text/plain": [
              "[<matplotlib.lines.Line2D at 0x7fde637db6d0>]"
            ]
          },
          "metadata": {},
          "execution_count": 49
        },
        {
          "output_type": "display_data",
          "data": {
            "text/plain": [
              "<Figure size 432x288 with 1 Axes>"
            ],
            "image/png": "[encoded data removed]"
          },
          "metadata": {}
        }
      ],
      "source": [
        "data_pages = data.groupby('total_pages_visited')[['converted']].mean()\n",
        "data_ages = data.groupby('age')[['converted']].mean()\n",
        "plt.plot(data_pages.index,data_pages['converted'])"
      ]
    },
    {
      "cell_type": "markdown",
      "metadata": {
        "id": "YyivJEruux1R"
      },
      "source": [
        "- Ce graphique montre que lorsque les utilisateurs visitent plus de pages, la probabilité de conversion augmente"
      ]
    },
    {
      "cell_type": "code",
      "execution_count": 50,
      "metadata": {
        "colab": {
          "base_uri": "https://localhost:8080/",
          "height": 451
        },
        "id": "O5xL6rG7ux1R",
        "outputId": "5098db91-a1ed-4f62-819a-64aa1ea4c09e"
      },
      "outputs": [
        {
          "output_type": "execute_result",
          "data": {
            "text/plain": [
              "total_pages_visited    0.529171\n",
              "new_user               0.152075\n",
              "age                    0.088711\n",
              "Name: converted, dtype: float64"
            ]
          },
          "metadata": {},
          "execution_count": 50
        },
        {
          "output_type": "display_data",
          "data": {
            "text/plain": [
              "<Figure size 720x432 with 2 Axes>"
            ],
            "image/png": "[encoded data removed]"
          },
          "metadata": {}
        }
      ],
      "source": [
        "fig = plt.figure(1, figsize=(10, 6))\n",
        "sns.heatmap(data.corr(), annot=True)\n",
        "data.corr()[\"converted\"].abs().sort_values(ascending=False).iloc[1:4]"
      ]
    },
    {
      "cell_type": "markdown",
      "metadata": {
        "id": "70MwsoCS3QD5"
      },
      "source": [
        "# Prediction model"
      ]
    },
    {
      "cell_type": "markdown",
      "metadata": {
        "id": "dPh1qPTf3wZU"
      },
      "source": [
        "**Baseline model (logistic regression)**"
      ]
    },
    {
      "cell_type": "code",
      "execution_count": 51,
      "metadata": {
        "colab": {
          "base_uri": "https://localhost:8080/"
        },
        "id": "sjEHMGoY3kMB",
        "outputId": "17e09204-47f6-46aa-80f6-7983cd56a83e"
      },
      "outputs": [
        {
          "output_type": "stream",
          "name": "stdout",
          "text": [
            "Explanatory variables :  Index(['country', 'age', 'new_user', 'source', 'total_pages_visited'], dtype='object')\n",
            "\n"
          ]
        }
      ],
      "source": [
        "target_variable = 'converted'\n",
        "Y = data.loc[:, target_variable]\n",
        "X = data.loc[:, [c for c in data.columns if c != target_variable]]\n",
        "\n",
        "print('Explanatory variables : ', X.columns)\n",
        "print()\n",
        "# Divide dataset Train set & Test set \n",
        "X_train, X_test, Y_train, Y_test = train_test_split(X, Y, test_size=0.1, random_state=0)\n"
      ]
    },
    {
      "cell_type": "code",
      "execution_count": 52,
      "metadata": {
        "id": "8L5O8LAbux1S"
      },
      "outputs": [],
      "source": [
        "#Convert pandas DataFrames to numpy arrays...\n",
        "X_train = X_train.values\n",
        "X_test = X_test.values\n",
        "Y_train = Y_train.tolist()\n",
        "Y_test = Y_test.tolist()"
      ]
    },
    {
      "cell_type": "code",
      "execution_count": 53,
      "metadata": {
        "id": "lobP9RFiux1S"
      },
      "outputs": [],
      "source": [
        "# Create pipeline for numeric features\n",
        "numeric_features = [1, 4] # Positions of numeric columns in X_train/X_test\n",
        "numeric_transformer = Pipeline(steps=[\n",
        "    ('imputer', SimpleImputer(strategy='mean')), # if still missing values we will replace by columns' mean\n",
        "    ('scaler', StandardScaler())\n",
        "])\n",
        "\n",
        "# Create pipeline for categorical features\n",
        "categorical_features = [0, 2, 3] # Positions of categorical columns in X_train/X_test\n",
        "categorical_transformer = Pipeline(\n",
        "    steps=[\n",
        "    ('imputer', SimpleImputer(strategy='most_frequent')), # if still missing values we will replace by most frequent value\n",
        "    ('encoder', OneHotEncoder(drop='first')) # first column will be dropped to avoid creating correlations between features\n",
        "    ])\n",
        "\n",
        "#OHE\n",
        "preprocessor = ColumnTransformer(\n",
        "    transformers=[\n",
        "        ('num', numeric_transformer, numeric_features),\n",
        "        ('cat', categorical_transformer, categorical_features)\n",
        "    ])\n",
        "\n",
        "# Preprocessings on train and test set\n",
        "X_train = preprocessor.fit_transform(X_train)\n",
        "X_test = preprocessor.transform(X_test) # Don't fit again on test!!"
      ]
    },
    {
      "cell_type": "code",
      "execution_count": 54,
      "metadata": {
        "colab": {
          "base_uri": "https://localhost:8080/"
        },
        "id": "FMI6w7nGux1S",
        "outputId": "70bdcbd1-7b48-47d4-b960-e400f77abc75"
      },
      "outputs": [
        {
          "output_type": "stream",
          "name": "stdout",
          "text": [
            "f1-score on train set : 0.765\n",
            "f1-score on test set : 0.748\n"
          ]
        }
      ],
      "source": [
        "# Train model\n",
        "classifierR = LogisticRegression()\n",
        "classifierR.fit(X_train, Y_train) # Training is always done on train set !!\n",
        "\n",
        "\n",
        "# Predictions on training set\n",
        "y_train_pred = classifierR.predict(X_train)\n",
        "# Predictions on test set\n",
        "y_test_pred = classifierR.predict(X_test)\n",
        "\n",
        "print(\"f1-score on train set : %.3f\" % f1_score(Y_train, y_train_pred))\n",
        "print(\"f1-score on test set : %.3f\" % f1_score(Y_test, y_test_pred))\n"
      ]
    },
    {
      "cell_type": "code",
      "execution_count": 55,
      "metadata": {
        "colab": {
          "base_uri": "https://localhost:8080/"
        },
        "id": "oXUJ8h_Iux1S",
        "outputId": "85cd7bae-837b-4cd9-dfbe-edacf39de71e"
      },
      "outputs": [
        {
          "output_type": "stream",
          "name": "stdout",
          "text": [
            "              precision    recall  f1-score   support\n",
            "\n",
            "           0       0.99      1.00      0.99     27500\n",
            "           1       0.85      0.67      0.75       958\n",
            "\n",
            "    accuracy                           0.98     28458\n",
            "   macro avg       0.92      0.83      0.87     28458\n",
            "weighted avg       0.98      0.98      0.98     28458\n",
            "\n"
          ]
        }
      ],
      "source": [
        "# Computing other performance metrics to better understand what the model is doing : Classifier\n",
        "print(classification_report(Y_test, classifierR.predict(X_test)))"
      ]
    },
    {
      "cell_type": "markdown",
      "metadata": {
        "id": "qiWDKa9Eux1T"
      },
      "source": [
        "Nous avons 99% de chance pour la classe 0 et 85% de chance pour la classe 1 qu'elle soit bien 0 et 1. De plus nous avons 100% de tout les non convertis que nous arrivons à bien prédire comme non converti, et 67% pour prédit comme bien converti.\n",
        "\n",
        "Le F1-score prend en compte la moyenne du déséquilibre entre le recall et la précision avec un F1-score à 99% et 75% montre l'exactitude de nos 2 metriques précédentes.\n",
        "\n",
        "Dans le support on remarque un désequilibre entre les 2 classes nous avons beaucoup plus de 0 que de 1"
      ]
    },
    {
      "cell_type": "markdown",
      "metadata": {
        "id": "phEgAvJVux1T"
      },
      "source": [
        "**Decision Tree**\n",
        "- Modèle qui divise l'ensemble de données successivement pour produire la prédiction\n",
        "- A chaque étape de division, le modèle sélectionne la variable et la valeur seuil qui permettent d'obtenir les deux sous-ensembles de données dans lesquels la variable cible sera la plus homogène possible\n",
        "- Le modèle arrête de diviser l'ensemble de données lorsque toutes les branches contiennent des sous-ensembles de données dans lesquels la variable cible est homogène (la même valeur pour toutes les observations)\n",
        "- L'objectif est de minimiser la somme de l'hétérogénéité des branches et de jouer sur les critères d'arrêt pour obtenir un compromis biais/variance optimal"
      ]
    },
    {
      "cell_type": "code",
      "execution_count": 56,
      "metadata": {
        "colab": {
          "base_uri": "https://localhost:8080/"
        },
        "id": "8t8FpDkMux1T",
        "outputId": "d3c7d93d-ed3a-4d2c-f4fe-d38651c3f002"
      },
      "outputs": [
        {
          "output_type": "execute_result",
          "data": {
            "text/plain": [
              "DecisionTreeClassifier()"
            ]
          },
          "metadata": {},
          "execution_count": 56
        }
      ],
      "source": [
        "# Create a random tree\n",
        "classifier = DecisionTreeClassifier()\n",
        "classifier.fit(X_train, Y_train)"
      ]
    },
    {
      "cell_type": "code",
      "execution_count": 57,
      "metadata": {
        "colab": {
          "base_uri": "https://localhost:8080/"
        },
        "id": "AqyoV8SEux1T",
        "outputId": "d7e98477-5dc6-4749-d2ab-d89847174e7b"
      },
      "outputs": [
        {
          "output_type": "execute_result",
          "data": {
            "text/plain": [
              "GridSearchCV(cv=3, estimator=DecisionTreeClassifier(),\n",
              "             param_grid={'max_depth': [5, 6, 7, 8, 9, 10],\n",
              "                         'min_samples_split': [7, 8, 9, 10, 11, 12, 13]})"
            ]
          },
          "metadata": {},
          "execution_count": 57
        }
      ],
      "source": [
        "# Determining best hyperparameters\n",
        "max_depth = [5,6,7,8, 9,10]\n",
        "min_samples_split = [7,8,9,10,11,12,13]\n",
        "\n",
        "gread_select = GridSearchCV(estimator=DecisionTreeClassifier(), cv=3,\n",
        "                       param_grid={\"max_depth\":max_depth, \"min_samples_split\":min_samples_split})\n",
        "\n",
        "gread_select.fit(X_train, Y_train)"
      ]
    },
    {
      "cell_type": "code",
      "execution_count": 58,
      "metadata": {
        "colab": {
          "base_uri": "https://localhost:8080/"
        },
        "id": "YgICHJpNux1T",
        "outputId": "7560b8b3-bd6a-4ba6-d97a-a7db53da956a"
      },
      "outputs": [
        {
          "output_type": "stream",
          "name": "stdout",
          "text": [
            "Hyperparameters that give the best score :  {'max_depth': 8, 'min_samples_split': 9}\n",
            "Best score : 0.986\n"
          ]
        }
      ],
      "source": [
        "print(\"Hyperparameters that give the best score : \", gread_select.best_params_)\n",
        "print(\"Best score : %.3f\" % gread_select.best_score_)"
      ]
    },
    {
      "cell_type": "code",
      "execution_count": 59,
      "metadata": {
        "id": "XFakADIFux1T"
      },
      "outputs": [],
      "source": [
        "# Apply the grid search outputs into the Decision Tree Classifier\n",
        "Decision_tree = DecisionTreeClassifier(max_depth=gread_select.best_params_['max_depth'],\n",
        "                           min_samples_split=gread_select.best_params_['min_samples_split'])\n",
        "Decision_tree.fit(X_train, Y_train)\n",
        "\n",
        "# Predictions on training set\n",
        "y_train_pred = Decision_tree.predict(X_train)\n",
        "\n",
        "# Predictions on test set\n",
        "y_test_pred = Decision_tree.predict(X_test)"
      ]
    },
    {
      "cell_type": "code",
      "execution_count": 60,
      "metadata": {
        "colab": {
          "base_uri": "https://localhost:8080/"
        },
        "id": "-6SDv_g7ux1T",
        "outputId": "985942c6-b196-44f5-ba87-7783cda590ce"
      },
      "outputs": [
        {
          "output_type": "stream",
          "name": "stdout",
          "text": [
            "f1-score on train set : 0.765\n",
            "f1-score on test set : 0.745\n"
          ]
        }
      ],
      "source": [
        "# The f1-score will be used to assess the performances on the leaderboard\n",
        "print(\"f1-score on train set : %.3f\" % f1_score(Y_train, Decision_tree.predict(X_train)))\n",
        "print(\"f1-score on test set : %.3f\" % f1_score(Y_test, Decision_tree.predict(X_test)))"
      ]
    },
    {
      "cell_type": "code",
      "execution_count": 61,
      "metadata": {
        "colab": {
          "base_uri": "https://localhost:8080/",
          "height": 285
        },
        "id": "LK043LuTux1T",
        "outputId": "810c3ba8-727e-4ab6-b206-a48d574f9e69"
      },
      "outputs": [
        {
          "output_type": "stream",
          "name": "stdout",
          "text": [
            "The confusion matrix  on test set\n"
          ]
        },
        {
          "output_type": "display_data",
          "data": {
            "text/plain": [
              "<Figure size 432x288 with 2 Axes>"
            ],
            "image/png": "[encoded data removed]"
          },
          "metadata": {}
        }
      ],
      "source": [
        "cm = confusion_matrix(Y_test, y_test_pred, normalize=\"true\")\n",
        "\n",
        "sns.heatmap(cm, annot=True, fmt=\".3f\");\n",
        "print('The confusion matrix  on test set')"
      ]
    },
    {
      "cell_type": "markdown",
      "metadata": {
        "id": "0RXffRc9ux1U"
      },
      "source": [
        "Dans les données de test, le nombre de non convertie classé comme non convertie corespond à 99,5 %. Dans les données de test, le nombre de converti classé comme converti est correct à 67 %.\n",
        "\n",
        "on constate également que nous avons un biais de 32% ou les converties sont classé comme non converti"
      ]
    },
    {
      "cell_type": "code",
      "execution_count": 62,
      "metadata": {
        "colab": {
          "base_uri": "https://localhost:8080/"
        },
        "id": "lRAd1cgxux1U",
        "outputId": "914c464f-dfe9-437c-87ce-7a5fa731ea77"
      },
      "outputs": [
        {
          "output_type": "stream",
          "name": "stdout",
          "text": [
            "              precision    recall  f1-score   support\n",
            "\n",
            "           0       0.99      1.00      0.99     27500\n",
            "           1       0.83      0.68      0.74       958\n",
            "\n",
            "    accuracy                           0.98     28458\n",
            "   macro avg       0.91      0.84      0.87     28458\n",
            "weighted avg       0.98      0.98      0.98     28458\n",
            "\n"
          ]
        }
      ],
      "source": [
        "# Computing other performance metrics to better understand what the model is doing : random tree\n",
        "print(classification_report(Y_test, Decision_tree.predict(X_test)))"
      ]
    },
    {
      "cell_type": "markdown",
      "metadata": {
        "id": "NLKJlFYxux1U"
      },
      "source": [
        "- On remarque un désequilibre entre les 2 classes nous avons beaucoup plus de 0 que de 1"
      ]
    },
    {
      "cell_type": "markdown",
      "metadata": {
        "id": "efITLLIgux1U"
      },
      "source": [
        "**Random Forest**\n",
        "- Un ensemble d'arbres aléatoires rassemblés par le Bagging\n",
        "-  Bagging: Bootstrap + Aggregating, consiste à former plusieurs modèles pour résoudre le même problème de prédiction et à combiner leurs forces pour améliorer les résultats\n",
        "- Bootstrap: Générer aléatoirement divers jeux de données, qui ressemblent aux données d'origine, sans leur être identiques (apprentissage de modèles sur des données variées)\n",
        "-  Parameter: n_estimators is the number of trees in the forest\n",
        "\n"
      ]
    },
    {
      "cell_type": "code",
      "execution_count": 63,
      "metadata": {
        "colab": {
          "base_uri": "https://localhost:8080/"
        },
        "id": "TigyTF-Cux1U",
        "outputId": "fbba8d00-821d-4613-e33e-bb7cf85efb88"
      },
      "outputs": [
        {
          "output_type": "execute_result",
          "data": {
            "text/plain": [
              "RandomForestClassifier()"
            ]
          },
          "metadata": {},
          "execution_count": 63
        }
      ],
      "source": [
        "classifier = RandomForestClassifier()\n",
        "classifier.fit(X_train, Y_train)"
      ]
    },
    {
      "cell_type": "code",
      "execution_count": 64,
      "metadata": {
        "colab": {
          "base_uri": "https://localhost:8080/"
        },
        "id": "kyHiMThnux1U",
        "outputId": "18409ad6-9193-46c9-cc51-77f820689096"
      },
      "outputs": [
        {
          "output_type": "execute_result",
          "data": {
            "text/plain": [
              "GridSearchCV(cv=3, estimator=RandomForestClassifier(),\n",
              "             param_grid={'max_depth': [7, 12, 15, 20, 25],\n",
              "                         'min_samples_split': [20, 30, 40, 50, 60, 70],\n",
              "                         'n_estimators': (25, 45, 50, 60, 70, 80)})"
            ]
          },
          "metadata": {},
          "execution_count": 64
        }
      ],
      "source": [
        "# Determining best hyperparameters\n",
        "max_depth = [7,12,15,20, 25]\n",
        "min_samples_split = [20,30,40,50,60,70]\n",
        "n_estimators = (25,45,50,60,70,80)\n",
        "\n",
        "gread_select = GridSearchCV(estimator=RandomForestClassifier(), cv=3,\n",
        "                       param_grid={\"max_depth\":max_depth,\n",
        "                                   \"min_samples_split\":min_samples_split,\n",
        "                                   \"n_estimators\":n_estimators})\n",
        "\n",
        "gread_select.fit(X_train, Y_train)"
      ]
    },
    {
      "cell_type": "code",
      "execution_count": 65,
      "metadata": {
        "colab": {
          "base_uri": "https://localhost:8080/"
        },
        "id": "xLPlO4_0ux1U",
        "outputId": "37c90bc3-69c3-4239-e402-21dfe6ddfa33"
      },
      "outputs": [
        {
          "output_type": "stream",
          "name": "stdout",
          "text": [
            "Hyperparameters that give the best score :  {'max_depth': 15, 'min_samples_split': 70, 'n_estimators': 60}\n",
            "Best score : 0.986\n"
          ]
        }
      ],
      "source": [
        "print(\"Hyperparameters that give the best score : \", gread_select.best_params_)\n",
        "print(\"Best score : %.3f\" % gread_select.best_score_)\n"
      ]
    },
    {
      "cell_type": "code",
      "execution_count": 66,
      "metadata": {
        "colab": {
          "base_uri": "https://localhost:8080/"
        },
        "id": "G_xin5LQux1V",
        "outputId": "70250247-0c59-4a22-aa7a-45146230679c"
      },
      "outputs": [
        {
          "output_type": "stream",
          "name": "stdout",
          "text": [
            "Best param : {'max_depth': 15, 'min_samples_split': 70, 'n_estimators': 60}\n"
          ]
        }
      ],
      "source": [
        "random_forest = RandomForestClassifier(n_estimators = gread_select.best_params_['n_estimators'], max_depth=gread_select.best_params_['max_depth'],\n",
        "                           min_samples_split=gread_select.best_params_['min_samples_split'])\n",
        "random_forest.fit(X_train, Y_train)\n",
        "\n",
        "print('Best param :',gread_select.best_params_)"
      ]
    },
    {
      "cell_type": "code",
      "execution_count": 67,
      "metadata": {
        "colab": {
          "base_uri": "https://localhost:8080/"
        },
        "id": "P_tnzv4Jux1V",
        "outputId": "aae1a28e-adb1-419b-b8fb-84391888bc8d"
      },
      "outputs": [
        {
          "output_type": "stream",
          "name": "stdout",
          "text": [
            "f1-score on train set : 0.772\n",
            "f1-score on test set : 0.749\n"
          ]
        }
      ],
      "source": [
        "# Predictions on training set\n",
        "y_train_pred = random_forest.predict(X_train)\n",
        "\n",
        "# Predictions on test set\n",
        "y_test_pred = random_forest.predict(X_test)\n",
        "\n",
        "print(\"f1-score on train set : %.3f\" % f1_score(Y_train, random_forest.predict(X_train)))\n",
        "print(\"f1-score on test set : %.3f\" % f1_score(Y_test, random_forest.predict(X_test)))"
      ]
    },
    {
      "cell_type": "code",
      "execution_count": 68,
      "metadata": {
        "colab": {
          "base_uri": "https://localhost:8080/",
          "height": 303
        },
        "id": "u1SBUo9xux1V",
        "outputId": "53d59ba1-f5d2-4853-c80d-d71da9678604"
      },
      "outputs": [
        {
          "output_type": "stream",
          "name": "stdout",
          "text": [
            "TEST SET : RANDOM FOREST\n",
            "---\n"
          ]
        },
        {
          "output_type": "display_data",
          "data": {
            "text/plain": [
              "<Figure size 432x288 with 2 Axes>"
            ],
            "image/png": "[encoded data removed]"
          },
          "metadata": {}
        }
      ],
      "source": [
        "print('TEST SET : RANDOM FOREST')\n",
        "print('---')\n",
        "cm = confusion_matrix(Y_test, y_test_pred, normalize=\"true\")\n",
        "\n",
        "sns.heatmap(cm, annot=True, fmt=\".3f\");\n"
      ]
    },
    {
      "cell_type": "code",
      "source": [
        "# Computing other performance metrics to better understand what the model is doing : random forest\n",
        "print(classification_report(Y_test, random_forest.predict(X_test)))"
      ],
      "metadata": {
        "id": "GWyKSrkDBoqp",
        "outputId": "eabf484c-e09f-401d-96e4-d42269ceb189",
        "colab": {
          "base_uri": "https://localhost:8080/"
        }
      },
      "execution_count": 69,
      "outputs": [
        {
          "output_type": "stream",
          "name": "stdout",
          "text": [
            "              precision    recall  f1-score   support\n",
            "\n",
            "           0       0.99      1.00      0.99     27500\n",
            "           1       0.84      0.68      0.75       958\n",
            "\n",
            "    accuracy                           0.98     28458\n",
            "   macro avg       0.91      0.84      0.87     28458\n",
            "weighted avg       0.98      0.98      0.98     28458\n",
            "\n"
          ]
        }
      ]
    },
    {
      "cell_type": "markdown",
      "source": [
        "- Nous avons 99% de chance pour la classe 0 et 84% de chance pour la classe 1 qu'elle soit bien 0 et 1. De plus nous avons 100% de tout les non convertis que nous arrivons à bien prédire comme non converti, et 68% pour prédit comme bien converti.\n"
      ],
      "metadata": {
        "id": "bNJyiTmGCUY-"
      }
    },
    {
      "cell_type": "markdown",
      "metadata": {
        "id": "6tVVDRABv91O"
      },
      "source": [
        "# Train best classifier on all data and use it to make predictions on X_without_labels\n",
        "**Before making predictions on the file conversion_data_test.csv, let's train our model on ALL the data that was in conversion_data_train.csv. Sometimes, this allows to make tiny improvements in the score because we're using more examples to train the model.**"
      ]
    },
    {
      "cell_type": "code",
      "execution_count": 70,
      "metadata": {
        "colab": {
          "base_uri": "https://localhost:8080/"
        },
        "id": "M14RHUadzE2p",
        "outputId": "1a7aa122-02e3-4111-a259-d3823297b95a"
      },
      "outputs": [
        {
          "output_type": "execute_result",
          "data": {
            "text/plain": [
              "RandomForestClassifier()"
            ]
          },
          "metadata": {},
          "execution_count": 70
        }
      ],
      "source": [
        "# Concatenate our train and test set to train your best classifier on all data with labels\n",
        "X = np.append(X_train,X_test,axis=0)\n",
        "Y = np.append(Y_train,Y_test)\n",
        "\n",
        "classifier.fit(X,Y)"
      ]
    },
    {
      "cell_type": "code",
      "source": [
        "# Read data without labels\n",
        "data_without_labels = pd.read_csv('/content/conversion_data_train (1).csv')\n",
        "print('Prediction set (without labels) :', data_without_labels.shape)\n",
        "\n",
        "#features_list = ['total_pages_visited']\n",
        "X_without_labels = data_without_labels.loc[:, data_without_labels.columns]\n",
        "\n",
        "# Convert pandas DataFrames to numpy arrays before using scikit-learn\n",
        "print(\"Convert pandas DataFrames to numpy arrays...\")\n",
        "X_without_labels = X_without_labels.values\n",
        "print(\"...Done\")\n",
        "\n",
        "print(X_without_labels[0:5,:])"
      ],
      "metadata": {
        "id": "74G-7t30DWYe",
        "outputId": "bdfad534-0808-43af-c9fe-67b72c95e64f",
        "colab": {
          "base_uri": "https://localhost:8080/"
        }
      },
      "execution_count": 73,
      "outputs": [
        {
          "output_type": "stream",
          "name": "stdout",
          "text": [
            "Prediction set (without labels) : (284580, 6)\n",
            "Convert pandas DataFrames to numpy arrays...\n",
            "...Done\n",
            "[['China' 22 1 'Direct' 2 0]\n",
            " ['UK' 21 1 'Ads' 3 0]\n",
            " ['Germany' 20 0 'Seo' 14 1]\n",
            " ['US' 23 1 'Seo' 3 0]\n",
            " ['US' 28 1 'Direct' 3 0]]\n"
          ]
        }
      ]
    },
    {
      "cell_type": "code",
      "source": [
        "# Create pipeline for categorical features\n",
        "categorical_features = [0, 2, 3]\n",
        "categorical_transformer = Pipeline(\n",
        "    steps=[\n",
        "    ('imputer', SimpleImputer(strategy='most_frequent')), # if still missing values we will replace by most frequent value\n",
        "    ('encoder', OneHotEncoder(drop='first')) # first column will be dropped to avoid creating correlations between features\n",
        "    ])\n",
        "\n",
        "# Create pipeline for numeric features\n",
        "numeric_features = [1, 4] \n",
        "numeric_transformer = Pipeline(steps=[\n",
        "    ('imputer', SimpleImputer(strategy='mean')), # if still missing values we will replace by columns' mean\n",
        "    ('scaler', StandardScaler())\n",
        "])\n",
        "\n",
        "# Use ColumnTranformer to make a preprocessor object that describes all the treatments to be done\n",
        "preprocessor = ColumnTransformer(\n",
        "    transformers=[\n",
        "        ('num', numeric_transformer, numeric_features),\n",
        "        ('cat', categorical_transformer, categorical_features)\n",
        "    ])\n",
        "\n",
        "X_without_labels = preprocessor.fit_transform(X_without_labels)\n",
        "print(\"...Done\")\n",
        "print(X_without_labels[0:5,:])\n"
      ],
      "metadata": {
        "id": "Hs2u2J_0Drbk",
        "outputId": "5bcbc559-91d8-48f8-8ce1-55106c4ee890",
        "colab": {
          "base_uri": "https://localhost:8080/"
        }
      },
      "execution_count": 74,
      "outputs": [
        {
          "output_type": "stream",
          "name": "stdout",
          "text": [
            "...Done\n",
            "[[-1.03597878 -0.85974314  0.          0.          0.          1.\n",
            "   1.          0.        ]\n",
            " [-1.15694494 -0.5605201   0.          1.          0.          1.\n",
            "   0.          0.        ]\n",
            " [-1.2779111   2.73093333  1.          0.          0.          0.\n",
            "   0.          1.        ]\n",
            " [-0.91501263 -0.5605201   0.          0.          1.          1.\n",
            "   0.          1.        ]\n",
            " [-0.31018183 -0.5605201   0.          0.          1.          1.\n",
            "   1.          0.        ]]\n"
          ]
        }
      ]
    },
    {
      "cell_type": "code",
      "source": [
        "# Make predictions and dump to file\n",
        "# WARNING : MAKE SURE THE FILE IS A CSV WITH ONE COLUMN NAMED 'converted' AND NO INDEX !\n",
        "# WARNING : FILE NAME MUST HAVE FORMAT 'conversion_data_test_predictions_[name].csv'\n",
        "# where [name] is the name of your team/model separated by a '-'\n",
        "# For example : [name] = AURELIE-model1\n",
        "data = {\n",
        "    'converted': classifierR.predict(X_without_labels)\n",
        "}\n",
        "\n",
        "Y_predictions = pd.DataFrame(columns=['converted'],data=data)\n",
        "Y_predictions.to_csv('conversion_data_test_predictions_EXAMPLE.csv', index=False)"
      ],
      "metadata": {
        "id": "_n0bVpBPDz_w"
      },
      "execution_count": 75,
      "outputs": []
    }
  ],
  "metadata": {
    "colab": {
      "collapsed_sections": [],
      "name": "02-Conversion_rate_challenge_template (4) (2).ipynb",
      "provenance": []
    },
    "kernelspec": {
      "display_name": "Python 3 (ipykernel)",
      "language": "python",
      "name": "python3"
    },
    "language_info": {
      "codemirror_mode": {
        "name": "ipython",
        "version": 3
      },
      "file_extension": ".py",
      "mimetype": "text/x-python",
      "name": "python",
      "nbconvert_exporter": "python",
      "pygments_lexer": "ipython3",
      "version": "3.9.7"
    },
    "accelerator": "GPU"
  },
  "nbformat": 4,
  "nbformat_minor": 0
}