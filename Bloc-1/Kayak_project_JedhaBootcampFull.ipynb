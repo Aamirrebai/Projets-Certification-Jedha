{
 "cells": [
  {
   "cell_type": "markdown",
   "id": "ac09c3f4-f71b-434b-bb40-9d2b72f5f726",
   "metadata": {},
   "source": [
    "# Project Kayak"
   ]
  },
  {
   "cell_type": "markdown",
   "id": "e66d4c82-aa20-4c31-93e8-d2937bf37ede",
   "metadata": {},
   "source": [
    "L'équipe marketing a besoin d'aide pour un nouveau projet. Après avoir effectué des recherches auprès des utilisateurs, l'équipe a découvert que 70 % de leurs utilisateurs qui planifient un voyage aimeraient avoir plus d'informations sur la destination vers laquelle ils se rendent .\n",
    "\n",
    "De plus, les recherches sur les utilisateurs montrent que les gens ont tendance à se méfier des informations qu'ils lisent s'ils ne connaissent pas la marque qui a produit le contenu.\n",
    "\n",
    "Par conséquent, Kayak Marketing Team aimerait créer une application qui recommandera où les gens devraient planifier leurs prochaines vacances. L'application doit être basée sur des données réelles concernant :\n",
    "\n",
    ">* Temps\n",
    "\n",
    ">* Hôtels dans la région\n",
    "\n",
    "L'application devrait alors être en mesure de recommander les meilleures destinations et hôtels en fonction des variables ci-dessus à tout moment."
   ]
  },
  {
   "cell_type": "markdown",
   "id": "c697aeaf-9187-4b57-a10a-4b7cc4760d69",
   "metadata": {},
   "source": [
    "**Objectifs**\n",
    "\n",
    "Comme le projet vient de démarrer, votre équipe ne dispose d'aucune donnée pouvant être utilisée pour créer cette application. Ainsi, votre travail consistera à :\n",
    "\n",
    ">* Extraire les données des destinations\n",
    ">* Obtenez les données météorologiques de chaque destination\n",
    ">* Obtenir des informations sur les hôtels de chaque destination\n",
    ">* Stocker toutes les informations dans un Data lake\n",
    ">* Extraire, transformer et charger les données nettoyées "
   ]
  },
  {
   "cell_type": "markdown",
   "id": "4fec656a-034f-413a-adc5-8c28ebc41374",
   "metadata": {
    "tags": []
   },
   "source": [
    "# import librairies"
   ]
  },
  {
   "cell_type": "code",
   "execution_count": 1,
   "id": "8d1cb3af-8f2c-43d1-86c8-66a83538585e",
   "metadata": {},
   "outputs": [],
   "source": [
    "import requests\n",
    "import json \n",
    "import pandas as pd\n",
    "import numpy as np\n",
    "from bs4 import BeautifulSoup\n",
    "import os \n",
    "import logging\n",
    "from datetime import datetime\n",
    "from bs4 import BeautifulSoup\n",
    "import plotly.express as px\n",
    "import plotly.graph_objects as go\n",
    "import plotly.io as pio\n",
    "\n",
    "pio.renderers.default = \"iframe\"\n",
    "!pip install plotly -q"
   ]
  },
  {
   "cell_type": "markdown",
   "id": "29ce63ea-3e46-4400-917c-757ca8c441be",
   "metadata": {},
   "source": [
    "# 1)API Scraping"
   ]
  },
  {
   "cell_type": "markdown",
   "id": "c82592fe-3a01-4312-a88a-0021a46f0d70",
   "metadata": {},
   "source": [
    "**Création d'un DataFrame des 35 villes avec coordonnées géographiques**"
   ]
  },
  {
   "cell_type": "code",
   "execution_count": 2,
   "id": "b187794c-d232-47a4-9d86-0c437b39e66c",
   "metadata": {},
   "outputs": [],
   "source": [
    "#liste des 35 meilleures villes  selectionnées selon One Week In.com\n",
    "cities = [\"Mont Saint Michel\", \"St Malo\", \"Bayeux\", \"Le Havre\",\"Rouen\",\"Paris\",\"Amiens\",\"Lille\",\n",
    "          \"Strasbourg\", \"Chateau du Haut Koenigsbourg\", \"Colmar\", \"Eguisheim\", \"Besancon\", \"Dijon\",\n",
    "          \"Annecy\", \"Grenoble\", \"Lyon\", \"Gorges\", \"Bormes les Mimosas\", \"Cassis\", \"Marseille\", \n",
    "          \"Aix en Provence\", \"Avignon\", \"Uzes\", \"Nimes\", \"Aigues Mortes\", \"Saintes Maries de la mer\",\n",
    "          \"Collioure\",\"Carcassonne\",\"Foix\",\"Toulouse\",\"Montauban\",\"Biarritz\",\"Bayonne\",\"La Rochelle\"]"
   ]
  },
  {
   "cell_type": "code",
   "execution_count": 3,
   "id": "b1205b16-2423-408a-95a8-be4ce8124d8b",
   "metadata": {},
   "outputs": [
    {
     "data": {
      "text/plain": [
       "{'place_id': 298516920,\n",
       " 'licence': 'Data © OpenStreetMap contributors, ODbL 1.0. https://osm.org/copyright',\n",
       " 'osm_type': 'relation',\n",
       " 'osm_id': 6791758,\n",
       " 'boundingbox': ['45.8280024', '45.9766928', '6.0484121', '6.2043932'],\n",
       " 'lat': '45.8992348',\n",
       " 'lon': '6.1288847',\n",
       " 'display_name': 'Annecy, Haute-Savoie, Auvergne-Rhône-Alpes, France métropolitaine, France',\n",
       " 'class': 'boundary',\n",
       " 'type': 'administrative',\n",
       " 'importance': 0.6890769115704565,\n",
       " 'icon': 'https://nominatim.openstreetmap.org/ui/mapicons/poi_boundary_administrative.p.20.png',\n",
       " 'address': {'city': 'Annecy',\n",
       "  'municipality': 'Annecy',\n",
       "  'county': 'Haute-Savoie',\n",
       "  'ISO3166-2-lvl6': 'FR-74',\n",
       "  'state': 'Auvergne-Rhône-Alpes',\n",
       "  'ISO3166-2-lvl4': 'FR-ARA',\n",
       "  'region': 'France métropolitaine',\n",
       "  'country': 'France',\n",
       "  'country_code': 'fr'}}"
      ]
     },
     "execution_count": 3,
     "metadata": {},
     "output_type": "execute_result"
    }
   ],
   "source": [
    "# Test sur une ville \n",
    "r=requests.get('https://nominatim.openstreetmap.org/?addressdetails=1&q=Annecy&countrycodes=france&format=json')\n",
    "r.json()[0]"
   ]
  },
  {
   "cell_type": "code",
   "execution_count": 4,
   "id": "2e961543-d712-4680-87c3-681cabf52988",
   "metadata": {},
   "outputs": [
    {
     "name": "stdout",
     "output_type": "stream",
     "text": [
      "45.8992348\n",
      "6.1288847\n"
     ]
    }
   ],
   "source": [
    "print(r.json()[0]['lat'])\n",
    "print(r.json()[0]['lon'])"
   ]
  },
  {
   "cell_type": "code",
   "execution_count": 5,
   "id": "588c0ad3-12a4-4deb-be54-2bb9257bce62",
   "metadata": {},
   "outputs": [
    {
     "name": "stdout",
     "output_type": "stream",
     "text": [
      "Extraction alt et long city 1  sur 35\n",
      "Extraction alt et long city 2  sur 35\n",
      "Extraction alt et long city 3  sur 35\n",
      "Extraction alt et long city 4  sur 35\n",
      "Extraction alt et long city 5  sur 35\n",
      "Extraction alt et long city 6  sur 35\n",
      "Extraction alt et long city 7  sur 35\n",
      "Extraction alt et long city 8  sur 35\n",
      "Extraction alt et long city 9  sur 35\n",
      "Extraction alt et long city 10  sur 35\n",
      "Extraction alt et long city 11  sur 35\n",
      "Extraction alt et long city 12  sur 35\n",
      "Extraction alt et long city 13  sur 35\n",
      "Extraction alt et long city 14  sur 35\n",
      "Extraction alt et long city 15  sur 35\n",
      "Extraction alt et long city 16  sur 35\n",
      "Extraction alt et long city 17  sur 35\n",
      "Extraction alt et long city 18  sur 35\n",
      "Extraction alt et long city 19  sur 35\n",
      "Extraction alt et long city 20  sur 35\n",
      "Extraction alt et long city 21  sur 35\n",
      "Extraction alt et long city 22  sur 35\n",
      "Extraction alt et long city 23  sur 35\n",
      "Extraction alt et long city 24  sur 35\n",
      "Extraction alt et long city 25  sur 35\n",
      "Extraction alt et long city 26  sur 35\n",
      "Extraction alt et long city 27  sur 35\n",
      "Extraction alt et long city 28  sur 35\n",
      "Extraction alt et long city 29  sur 35\n",
      "Extraction alt et long city 30  sur 35\n",
      "Extraction alt et long city 31  sur 35\n",
      "Extraction alt et long city 32  sur 35\n",
      "Extraction alt et long city 33  sur 35\n",
      "Extraction alt et long city 34  sur 35\n",
      "Extraction alt et long city 35  sur 35\n"
     ]
    }
   ],
   "source": [
    "# liste de la longitude et la latitude des 35 villes selectionnées \n",
    "#grâce à la librairie requests\n",
    "lat =[]\n",
    "long =[]\n",
    "id_city=[]\n",
    "n=0\n",
    "for city in cities :\n",
    "    print('Extraction alt et long city',n+1,' sur 35')\n",
    "    id_city.append(n)\n",
    "    n+=1\n",
    "    r = requests.get(f\"https://nominatim.openstreetmap.org/search.php?city={city}&country=france&format=json\")\n",
    "    lat.append(float(r.json()[0]['lat']))\n",
    "    long.append(float(r.json()[0]['lon']))\n"
   ]
  },
  {
   "cell_type": "markdown",
   "id": "42ed10d4-ff06-4577-8908-bd775633dcf6",
   "metadata": {},
   "source": [
    "**Création d'un DataFrame contenant pour chaque ville les données météorologiques que nous souhaitons étudier**"
   ]
  },
  {
   "cell_type": "code",
   "execution_count": 6,
   "id": "1a73c56c-ed03-448e-b7d2-7192b296e96c",
   "metadata": {},
   "outputs": [
    {
     "name": "stdout",
     "output_type": "stream",
     "text": [
      "Extraction info weather city 1  sur 35\n",
      "Extraction info weather city 2  sur 35\n",
      "Extraction info weather city 3  sur 35\n",
      "Extraction info weather city 4  sur 35\n",
      "Extraction info weather city 5  sur 35\n",
      "Extraction info weather city 6  sur 35\n",
      "Extraction info weather city 7  sur 35\n",
      "Extraction info weather city 8  sur 35\n",
      "Extraction info weather city 9  sur 35\n",
      "Extraction info weather city 10  sur 35\n",
      "Extraction info weather city 11  sur 35\n",
      "Extraction info weather city 12  sur 35\n",
      "Extraction info weather city 13  sur 35\n",
      "Extraction info weather city 14  sur 35\n",
      "Extraction info weather city 15  sur 35\n",
      "Extraction info weather city 16  sur 35\n",
      "Extraction info weather city 17  sur 35\n",
      "Extraction info weather city 18  sur 35\n",
      "Extraction info weather city 19  sur 35\n",
      "Extraction info weather city 20  sur 35\n",
      "Extraction info weather city 21  sur 35\n",
      "Extraction info weather city 22  sur 35\n",
      "Extraction info weather city 23  sur 35\n",
      "Extraction info weather city 24  sur 35\n",
      "Extraction info weather city 25  sur 35\n",
      "Extraction info weather city 26  sur 35\n",
      "Extraction info weather city 27  sur 35\n",
      "Extraction info weather city 28  sur 35\n",
      "Extraction info weather city 29  sur 35\n",
      "Extraction info weather city 30  sur 35\n",
      "Extraction info weather city 31  sur 35\n",
      "Extraction info weather city 32  sur 35\n",
      "Extraction info weather city 33  sur 35\n",
      "Extraction info weather city 34  sur 35\n",
      "Extraction info weather city 35  sur 35\n"
     ]
    }
   ],
   "source": [
    "## on recupère la météo des 35 villes selectionnées sur 7 prochains jours \n",
    "weather =[]\n",
    "temperature =[]\n",
    "n=0\n",
    "for i in range(len(cities)):\n",
    "    print('Extraction info weather city',n+1,' sur 35')\n",
    "    r = requests.get(f\"https://api.openweathermap.org/data/2.5/onecall?lat={lat[i]}&lon={long[i]}&units=metric&exclude=hourly,current,minutely,alerts&appid=96edad016d12c29b1c6f80594f3bf478\")\n",
    "    l=[]\n",
    "    t=[]\n",
    "    for i in range(7):\n",
    "        l.append(r.json()['daily'][i]['weather'][0]['main'])\n",
    "        t.append(r.json()['daily'][i]['temp']['min'])\n",
    "    weather.append(l)\n",
    "    temperature.append(t)\n",
    "    n+=1"
   ]
  },
  {
   "cell_type": "code",
   "execution_count": 7,
   "id": "083d4828-9921-4ea8-a334-068bd12e4a41",
   "metadata": {},
   "outputs": [
    {
     "data": {
      "text/html": [
       "<div>\n",
       "<style scoped>\n",
       "    .dataframe tbody tr th:only-of-type {\n",
       "        vertical-align: middle;\n",
       "    }\n",
       "\n",
       "    .dataframe tbody tr th {\n",
       "        vertical-align: top;\n",
       "    }\n",
       "\n",
       "    .dataframe thead th {\n",
       "        text-align: right;\n",
       "    }\n",
       "</style>\n",
       "<table border=\"1\" class=\"dataframe\">\n",
       "  <thead>\n",
       "    <tr style=\"text-align: right;\">\n",
       "      <th></th>\n",
       "      <th>city_id</th>\n",
       "      <th>city_name</th>\n",
       "      <th>city_latitude</th>\n",
       "      <th>city_longitude</th>\n",
       "      <th>city_temperature</th>\n",
       "      <th>city_weather7</th>\n",
       "    </tr>\n",
       "  </thead>\n",
       "  <tbody>\n",
       "    <tr>\n",
       "      <th>0</th>\n",
       "      <td>0</td>\n",
       "      <td>Mont Saint Michel</td>\n",
       "      <td>48.635954</td>\n",
       "      <td>-1.511460</td>\n",
       "      <td>6.812857</td>\n",
       "      <td>[Rain, Rain, Rain, Rain, Rain, Clouds, Rain]</td>\n",
       "    </tr>\n",
       "    <tr>\n",
       "      <th>1</th>\n",
       "      <td>1</td>\n",
       "      <td>St Malo</td>\n",
       "      <td>48.649518</td>\n",
       "      <td>-2.026041</td>\n",
       "      <td>8.434286</td>\n",
       "      <td>[Clouds, Rain, Rain, Rain, Rain, Rain, Rain]</td>\n",
       "    </tr>\n",
       "    <tr>\n",
       "      <th>2</th>\n",
       "      <td>2</td>\n",
       "      <td>Bayeux</td>\n",
       "      <td>49.276462</td>\n",
       "      <td>-0.702474</td>\n",
       "      <td>6.480000</td>\n",
       "      <td>[Rain, Clouds, Rain, Rain, Rain, Clear, Rain]</td>\n",
       "    </tr>\n",
       "    <tr>\n",
       "      <th>3</th>\n",
       "      <td>3</td>\n",
       "      <td>Le Havre</td>\n",
       "      <td>49.493898</td>\n",
       "      <td>0.107973</td>\n",
       "      <td>8.691429</td>\n",
       "      <td>[Rain, Rain, Rain, Rain, Rain, Rain, Rain]</td>\n",
       "    </tr>\n",
       "    <tr>\n",
       "      <th>4</th>\n",
       "      <td>4</td>\n",
       "      <td>Rouen</td>\n",
       "      <td>49.440459</td>\n",
       "      <td>1.093966</td>\n",
       "      <td>5.760000</td>\n",
       "      <td>[Rain, Clouds, Rain, Rain, Rain, Clear, Clouds]</td>\n",
       "    </tr>\n",
       "  </tbody>\n",
       "</table>\n",
       "</div>"
      ],
      "text/plain": [
       "   city_id          city_name  city_latitude  city_longitude  \\\n",
       "0        0  Mont Saint Michel      48.635954       -1.511460   \n",
       "1        1            St Malo      48.649518       -2.026041   \n",
       "2        2             Bayeux      49.276462       -0.702474   \n",
       "3        3           Le Havre      49.493898        0.107973   \n",
       "4        4              Rouen      49.440459        1.093966   \n",
       "\n",
       "   city_temperature                                    city_weather7  \n",
       "0          6.812857     [Rain, Rain, Rain, Rain, Rain, Clouds, Rain]  \n",
       "1          8.434286     [Clouds, Rain, Rain, Rain, Rain, Rain, Rain]  \n",
       "2          6.480000    [Rain, Clouds, Rain, Rain, Rain, Clear, Rain]  \n",
       "3          8.691429       [Rain, Rain, Rain, Rain, Rain, Rain, Rain]  \n",
       "4          5.760000  [Rain, Clouds, Rain, Rain, Rain, Clear, Clouds]  "
      ]
     },
     "execution_count": 7,
     "metadata": {},
     "output_type": "execute_result"
    }
   ],
   "source": [
    "data ={'city_id': id_city,\n",
    "       'city_name': cities,\n",
    "       'city_latitude': lat,\n",
    "       'city_longitude': long,\n",
    "       'city_temperature':temperature,\n",
    "       'city_weather7': weather}\n",
    "dataset_city = pd.DataFrame(data)\n",
    "dataset_city['city_temperature'] = dataset_city['city_temperature'].apply(lambda x: sum(x)/len(x))\n",
    "dataset_city['city_latitude'] = dataset_city['city_latitude'].apply(lambda x: float(x))\n",
    "dataset_city['city_longitude'] = dataset_city['city_longitude'].apply(lambda x: float(x))\n",
    "dataset_city.head()"
   ]
  },
  {
   "cell_type": "code",
   "execution_count": 8,
   "id": "a5d544a6-32f5-40a5-9c17-78cc7f385453",
   "metadata": {},
   "outputs": [
    {
     "data": {
      "text/html": [
       "<iframe\n",
       "    scrolling=\"no\"\n",
       "    width=\"100%\"\n",
       "    height=\"545px\"\n",
       "    src=\"iframe_figures/figure_8.html\"\n",
       "    frameborder=\"0\"\n",
       "    allowfullscreen\n",
       "></iframe>\n"
      ]
     },
     "metadata": {},
     "output_type": "display_data"
    }
   ],
   "source": [
    "import plotly.express as px\n",
    "\n",
    "df = dataset_city\n",
    "df.describe()\n",
    "# on ajoute à la colonne température abs(min) parce que ce paramétre \n",
    "# n'accepte pas une valeur negative dans la fonction \n",
    "# px.scatter_mapbox\n",
    "size = df['city_temperature']+abs(df['city_temperature'].min())\n",
    "# creation d'une carte qui affiche la météo des 35 villes  avec scatter_mapbox\n",
    "fig = px.scatter_mapbox(df,lat='city_latitude', lon='city_longitude',color='city_temperature',size=size,\n",
    "                 size_max=15, zoom=3, mapbox_style=\"carto-positron\")\n",
    "\n",
    "fig.show()"
   ]
  },
  {
   "cell_type": "code",
   "execution_count": 9,
   "id": "33f5ce65-fde3-4ee8-b573-4897ca992639",
   "metadata": {},
   "outputs": [],
   "source": [
    "## Enregistrement du DataFrame en format csv\n",
    "dataset_city.to_csv('cities_weather.csv', index=False)"
   ]
  },
  {
   "cell_type": "markdown",
   "id": "3d9aa818-9988-4a7e-a436-38aa3b34492e",
   "metadata": {},
   "source": [
    "# 2) URL scrapping"
   ]
  },
  {
   "cell_type": "markdown",
   "id": "b99eb9e4-c490-4819-896a-e1868c86dab1",
   "metadata": {},
   "source": [
    "scraping des informations suivante:\n",
    ">* hotel name\n",
    ">* Url to his booking.com page\n",
    ">* coordinates: latitude and longitude\n",
    ">* Score given by the website users\n",
    ">* Text description of the hotel"
   ]
  },
  {
   "cell_type": "code",
   "execution_count": 10,
   "id": "8e5283ee-1cc2-4685-91d4-dad2248801f7",
   "metadata": {},
   "outputs": [
    {
     "name": "stdout",
     "output_type": "stream",
     "text": [
      "Extraction info city  1  sur 35 city\n",
      "Extraction info city  2  sur 35 city\n",
      "Extraction info city  3  sur 35 city\n",
      "Extraction info city  4  sur 35 city\n",
      "Extraction info city  5  sur 35 city\n",
      "Extraction info city  6  sur 35 city\n",
      "Extraction info city  7  sur 35 city\n",
      "Extraction info city  8  sur 35 city\n",
      "Extraction info city  9  sur 35 city\n",
      "Extraction info city  10  sur 35 city\n",
      "Extraction info city  11  sur 35 city\n",
      "Extraction info city  12  sur 35 city\n",
      "Extraction info city  13  sur 35 city\n",
      "Extraction info city  14  sur 35 city\n",
      "Extraction info city  15  sur 35 city\n",
      "Extraction info city  16  sur 35 city\n",
      "Extraction info city  17  sur 35 city\n",
      "Extraction info city  18  sur 35 city\n",
      "Extraction info city  19  sur 35 city\n",
      "Extraction info city  20  sur 35 city\n",
      "Extraction info city  21  sur 35 city\n",
      "Extraction info city  22  sur 35 city\n",
      "Extraction info city  23  sur 35 city\n",
      "Extraction info city  24  sur 35 city\n",
      "Extraction info city  25  sur 35 city\n",
      "Extraction info city  26  sur 35 city\n",
      "Extraction info city  27  sur 35 city\n",
      "Extraction info city  28  sur 35 city\n",
      "Extraction info city  29  sur 35 city\n",
      "Extraction info city  30  sur 35 city\n",
      "Extraction info city  31  sur 35 city\n",
      "Extraction info city  32  sur 35 city\n",
      "Extraction info city  33  sur 35 city\n",
      "Extraction info city  34  sur 35 city\n",
      "Extraction info city  35  sur 35 city\n"
     ]
    }
   ],
   "source": [
    "#on récupère 20 hotels ainsi que leurs informations en fonction de nos 35 villes selectionnées précédemment \n",
    "#grâce a beautifulsoup\n",
    "\n",
    "#soup = BeautifulSoup(\"<html>data</html>\", \"html.parser\")\n",
    "##Utilisation de try, except car certains hotels peuvent ne pas avoir de note car ajoutés récement sur le site.\n",
    "from bs4 import BeautifulSoup\n",
    "import requests\n",
    "\n",
    "def clean_description(description):\n",
    "    '''\n",
    "    fonction pour extraire la bonne information concernant description des hotels\n",
    "    '''\n",
    "    desc = []\n",
    "    for x in description:\n",
    "        xx = x.get('class')\n",
    "        if xx[0] == 'd8eab2cf7f' and len(xx) == 1 :\n",
    "            desc.append(x.text)\n",
    "    return desc\n",
    "\n",
    "headers = {'User-Agent':'Mozilla/5.0 (Macintosh; Intel Mac OS X 10_11_2) AppleWebKit/601.3.9 (KHTML, like Gecko) Version/9.0.2 Safari/601.3.9'}\n",
    "\n",
    "hotel_data = []\n",
    "n=0\n",
    "for city in cities:\n",
    "    #print(city)\n",
    "    url = f\"https://www.booking.com/searchresults.fr.html?ss={city}+France\"\n",
    "    r=requests.get(url,headers=headers)\n",
    "    soup = BeautifulSoup(r.text, 'html.parser')\n",
    "    list_hotel = soup.find_all(\"div\", class_ = \"fcab3ed991 a23c043802\")\n",
    "    description = soup.find_all('div', {'class' : \"d8eab2cf7f\"})\n",
    "    desc = clean_description(description)\n",
    "    lien = soup.find_all(\"a\", class_ = \"e13098a59f\")   \n",
    "    score = soup.find_all(\"div\", class_ = \"b5cd09854e d10a6220b4\") \n",
    "    for i in range(10):\n",
    "        try:\n",
    "            re = requests.get(f\"https://nominatim.openstreetmap.org/search.php?street={list_hotel[i].get_text()}&country=france&format=json\")\n",
    "            latt=float(re.json()[0]['lat'])\n",
    "            longg= float(re.json()[0]['lon'])\n",
    "        except:    \n",
    "            latt  = lat[n]   \n",
    "            longg = long[n]\n",
    "            \n",
    "        raw=[n , list_hotel[i].get_text(), latt , longg , desc[i] , lien[i].get('href') , \n",
    "             float(score[i].get_text().replace(',','.')) ]        \n",
    "        hotel_data.append(raw)\n",
    "            \n",
    "    print('Extraction info city ',n+1,' sur 35 city')    \n",
    "    n+=1;  \n",
    "\n",
    "header =['city_id','hotel_name','hotel_lat', 'hotel_long','hotel_description','hotel_link','hotel_score']\n",
    "dataset_hotel = pd.DataFrame(hotel_data,  columns = header)"
   ]
  },
  {
   "cell_type": "code",
   "execution_count": 11,
   "id": "06eb102b-acf9-4cfc-8c43-3bf1bf3e5670",
   "metadata": {},
   "outputs": [
    {
     "data": {
      "text/html": [
       "<div>\n",
       "<style scoped>\n",
       "    .dataframe tbody tr th:only-of-type {\n",
       "        vertical-align: middle;\n",
       "    }\n",
       "\n",
       "    .dataframe tbody tr th {\n",
       "        vertical-align: top;\n",
       "    }\n",
       "\n",
       "    .dataframe thead th {\n",
       "        text-align: right;\n",
       "    }\n",
       "</style>\n",
       "<table border=\"1\" class=\"dataframe\">\n",
       "  <thead>\n",
       "    <tr style=\"text-align: right;\">\n",
       "      <th></th>\n",
       "      <th>city_id</th>\n",
       "      <th>hotel_name</th>\n",
       "      <th>hotel_lat</th>\n",
       "      <th>hotel_long</th>\n",
       "      <th>hotel_description</th>\n",
       "      <th>hotel_link</th>\n",
       "      <th>hotel_score</th>\n",
       "    </tr>\n",
       "  </thead>\n",
       "  <tbody>\n",
       "    <tr>\n",
       "      <th>0</th>\n",
       "      <td>0</td>\n",
       "      <td>Le Relais Saint Michel</td>\n",
       "      <td>48.589850</td>\n",
       "      <td>-0.659579</td>\n",
       "      <td>Le Relais Saint Michel vous accueille face à l...</td>\n",
       "      <td>https://www.booking.com/hotel/fr/le-relais-sai...</td>\n",
       "      <td>7.8</td>\n",
       "    </tr>\n",
       "    <tr>\n",
       "      <th>1</th>\n",
       "      <td>0</td>\n",
       "      <td>Les Terrasses Poulard</td>\n",
       "      <td>48.636195</td>\n",
       "      <td>-1.509808</td>\n",
       "      <td>Occupant 2 bâtiments différents au cœur du Mon...</td>\n",
       "      <td>https://www.booking.com/hotel/fr/les-terrasses...</td>\n",
       "      <td>7.3</td>\n",
       "    </tr>\n",
       "    <tr>\n",
       "      <th>2</th>\n",
       "      <td>0</td>\n",
       "      <td>La Mère Poulard</td>\n",
       "      <td>48.400261</td>\n",
       "      <td>-1.314558</td>\n",
       "      <td>Occupant un bâtiment historique, l'hôtel La Mè...</td>\n",
       "      <td>https://www.booking.com/hotel/fr/la-mere-poula...</td>\n",
       "      <td>7.0</td>\n",
       "    </tr>\n",
       "    <tr>\n",
       "      <th>3</th>\n",
       "      <td>0</td>\n",
       "      <td>Hotel De La Digue</td>\n",
       "      <td>48.616838</td>\n",
       "      <td>-1.511111</td>\n",
       "      <td>L'hôtel De La Digue est un établissement tradi...</td>\n",
       "      <td>https://www.booking.com/hotel/fr/de-la-digue.f...</td>\n",
       "      <td>7.1</td>\n",
       "    </tr>\n",
       "    <tr>\n",
       "      <th>4</th>\n",
       "      <td>0</td>\n",
       "      <td>Le Relais Du Roy</td>\n",
       "      <td>48.616309</td>\n",
       "      <td>-1.511077</td>\n",
       "      <td>Le Relais Du Roy est un hôtel 3 étoiles situé ...</td>\n",
       "      <td>https://www.booking.com/hotel/fr/le-relais-du-...</td>\n",
       "      <td>7.9</td>\n",
       "    </tr>\n",
       "  </tbody>\n",
       "</table>\n",
       "</div>"
      ],
      "text/plain": [
       "   city_id              hotel_name  hotel_lat  hotel_long  \\\n",
       "0        0  Le Relais Saint Michel  48.589850   -0.659579   \n",
       "1        0   Les Terrasses Poulard  48.636195   -1.509808   \n",
       "2        0         La Mère Poulard  48.400261   -1.314558   \n",
       "3        0       Hotel De La Digue  48.616838   -1.511111   \n",
       "4        0        Le Relais Du Roy  48.616309   -1.511077   \n",
       "\n",
       "                                   hotel_description  \\\n",
       "0  Le Relais Saint Michel vous accueille face à l...   \n",
       "1  Occupant 2 bâtiments différents au cœur du Mon...   \n",
       "2  Occupant un bâtiment historique, l'hôtel La Mè...   \n",
       "3  L'hôtel De La Digue est un établissement tradi...   \n",
       "4  Le Relais Du Roy est un hôtel 3 étoiles situé ...   \n",
       "\n",
       "                                          hotel_link  hotel_score  \n",
       "0  https://www.booking.com/hotel/fr/le-relais-sai...          7.8  \n",
       "1  https://www.booking.com/hotel/fr/les-terrasses...          7.3  \n",
       "2  https://www.booking.com/hotel/fr/la-mere-poula...          7.0  \n",
       "3  https://www.booking.com/hotel/fr/de-la-digue.f...          7.1  \n",
       "4  https://www.booking.com/hotel/fr/le-relais-du-...          7.9  "
      ]
     },
     "execution_count": 11,
     "metadata": {},
     "output_type": "execute_result"
    }
   ],
   "source": [
    "# DataFrame contenant les 20 meilleurs hotels de chaque ville selon les recommandations de booking\n",
    "dataset_hotel.head()"
   ]
  },
  {
   "cell_type": "code",
   "execution_count": 16,
   "id": "d9ddcd45-d57b-4898-9e31-995c50b74f36",
   "metadata": {},
   "outputs": [],
   "source": [
    "dataset_hotel.to_csv('cities_hotel.csv', index=False)"
   ]
  },
  {
   "cell_type": "code",
   "execution_count": 17,
   "id": "d1e492b2-81de-48e0-a5c5-3c87b04cf376",
   "metadata": {},
   "outputs": [
    {
     "data": {
      "text/html": [
       "<div>\n",
       "<style scoped>\n",
       "    .dataframe tbody tr th:only-of-type {\n",
       "        vertical-align: middle;\n",
       "    }\n",
       "\n",
       "    .dataframe tbody tr th {\n",
       "        vertical-align: top;\n",
       "    }\n",
       "\n",
       "    .dataframe thead th {\n",
       "        text-align: right;\n",
       "    }\n",
       "</style>\n",
       "<table border=\"1\" class=\"dataframe\">\n",
       "  <thead>\n",
       "    <tr style=\"text-align: right;\">\n",
       "      <th></th>\n",
       "      <th>city_id</th>\n",
       "      <th>city_name</th>\n",
       "      <th>city_latitude</th>\n",
       "      <th>city_longitude</th>\n",
       "      <th>city_temperature</th>\n",
       "      <th>city_weather7</th>\n",
       "      <th>hotel_name</th>\n",
       "      <th>hotel_lat</th>\n",
       "      <th>hotel_long</th>\n",
       "      <th>hotel_description</th>\n",
       "      <th>hotel_link</th>\n",
       "      <th>hotel_score</th>\n",
       "    </tr>\n",
       "  </thead>\n",
       "  <tbody>\n",
       "    <tr>\n",
       "      <th>0</th>\n",
       "      <td>0</td>\n",
       "      <td>Mont Saint Michel</td>\n",
       "      <td>48.635954</td>\n",
       "      <td>-1.51146</td>\n",
       "      <td>6.812857</td>\n",
       "      <td>[Rain, Rain, Rain, Rain, Rain, Clouds, Rain]</td>\n",
       "      <td>Le Relais Saint Michel</td>\n",
       "      <td>48.589850</td>\n",
       "      <td>-0.659579</td>\n",
       "      <td>Le Relais Saint Michel vous accueille face à l...</td>\n",
       "      <td>https://www.booking.com/hotel/fr/le-relais-sai...</td>\n",
       "      <td>7.8</td>\n",
       "    </tr>\n",
       "    <tr>\n",
       "      <th>0</th>\n",
       "      <td>0</td>\n",
       "      <td>Mont Saint Michel</td>\n",
       "      <td>48.635954</td>\n",
       "      <td>-1.51146</td>\n",
       "      <td>6.812857</td>\n",
       "      <td>[Rain, Rain, Rain, Rain, Rain, Clouds, Rain]</td>\n",
       "      <td>Les Terrasses Poulard</td>\n",
       "      <td>48.636195</td>\n",
       "      <td>-1.509808</td>\n",
       "      <td>Occupant 2 bâtiments différents au cœur du Mon...</td>\n",
       "      <td>https://www.booking.com/hotel/fr/les-terrasses...</td>\n",
       "      <td>7.3</td>\n",
       "    </tr>\n",
       "    <tr>\n",
       "      <th>0</th>\n",
       "      <td>0</td>\n",
       "      <td>Mont Saint Michel</td>\n",
       "      <td>48.635954</td>\n",
       "      <td>-1.51146</td>\n",
       "      <td>6.812857</td>\n",
       "      <td>[Rain, Rain, Rain, Rain, Rain, Clouds, Rain]</td>\n",
       "      <td>La Mère Poulard</td>\n",
       "      <td>48.400261</td>\n",
       "      <td>-1.314558</td>\n",
       "      <td>Occupant un bâtiment historique, l'hôtel La Mè...</td>\n",
       "      <td>https://www.booking.com/hotel/fr/la-mere-poula...</td>\n",
       "      <td>7.0</td>\n",
       "    </tr>\n",
       "    <tr>\n",
       "      <th>0</th>\n",
       "      <td>0</td>\n",
       "      <td>Mont Saint Michel</td>\n",
       "      <td>48.635954</td>\n",
       "      <td>-1.51146</td>\n",
       "      <td>6.812857</td>\n",
       "      <td>[Rain, Rain, Rain, Rain, Rain, Clouds, Rain]</td>\n",
       "      <td>Hotel De La Digue</td>\n",
       "      <td>48.616838</td>\n",
       "      <td>-1.511111</td>\n",
       "      <td>L'hôtel De La Digue est un établissement tradi...</td>\n",
       "      <td>https://www.booking.com/hotel/fr/de-la-digue.f...</td>\n",
       "      <td>7.1</td>\n",
       "    </tr>\n",
       "    <tr>\n",
       "      <th>0</th>\n",
       "      <td>0</td>\n",
       "      <td>Mont Saint Michel</td>\n",
       "      <td>48.635954</td>\n",
       "      <td>-1.51146</td>\n",
       "      <td>6.812857</td>\n",
       "      <td>[Rain, Rain, Rain, Rain, Rain, Clouds, Rain]</td>\n",
       "      <td>Le Relais Du Roy</td>\n",
       "      <td>48.616309</td>\n",
       "      <td>-1.511077</td>\n",
       "      <td>Le Relais Du Roy est un hôtel 3 étoiles situé ...</td>\n",
       "      <td>https://www.booking.com/hotel/fr/le-relais-du-...</td>\n",
       "      <td>7.9</td>\n",
       "    </tr>\n",
       "  </tbody>\n",
       "</table>\n",
       "</div>"
      ],
      "text/plain": [
       "   city_id          city_name  city_latitude  city_longitude  \\\n",
       "0        0  Mont Saint Michel      48.635954        -1.51146   \n",
       "0        0  Mont Saint Michel      48.635954        -1.51146   \n",
       "0        0  Mont Saint Michel      48.635954        -1.51146   \n",
       "0        0  Mont Saint Michel      48.635954        -1.51146   \n",
       "0        0  Mont Saint Michel      48.635954        -1.51146   \n",
       "\n",
       "   city_temperature                                 city_weather7  \\\n",
       "0          6.812857  [Rain, Rain, Rain, Rain, Rain, Clouds, Rain]   \n",
       "0          6.812857  [Rain, Rain, Rain, Rain, Rain, Clouds, Rain]   \n",
       "0          6.812857  [Rain, Rain, Rain, Rain, Rain, Clouds, Rain]   \n",
       "0          6.812857  [Rain, Rain, Rain, Rain, Rain, Clouds, Rain]   \n",
       "0          6.812857  [Rain, Rain, Rain, Rain, Rain, Clouds, Rain]   \n",
       "\n",
       "               hotel_name  hotel_lat  hotel_long  \\\n",
       "0  Le Relais Saint Michel  48.589850   -0.659579   \n",
       "0   Les Terrasses Poulard  48.636195   -1.509808   \n",
       "0         La Mère Poulard  48.400261   -1.314558   \n",
       "0       Hotel De La Digue  48.616838   -1.511111   \n",
       "0        Le Relais Du Roy  48.616309   -1.511077   \n",
       "\n",
       "                                   hotel_description  \\\n",
       "0  Le Relais Saint Michel vous accueille face à l...   \n",
       "0  Occupant 2 bâtiments différents au cœur du Mon...   \n",
       "0  Occupant un bâtiment historique, l'hôtel La Mè...   \n",
       "0  L'hôtel De La Digue est un établissement tradi...   \n",
       "0  Le Relais Du Roy est un hôtel 3 étoiles situé ...   \n",
       "\n",
       "                                          hotel_link  hotel_score  \n",
       "0  https://www.booking.com/hotel/fr/le-relais-sai...          7.8  \n",
       "0  https://www.booking.com/hotel/fr/les-terrasses...          7.3  \n",
       "0  https://www.booking.com/hotel/fr/la-mere-poula...          7.0  \n",
       "0  https://www.booking.com/hotel/fr/de-la-digue.f...          7.1  \n",
       "0  https://www.booking.com/hotel/fr/le-relais-du-...          7.9  "
      ]
     },
     "execution_count": 17,
     "metadata": {},
     "output_type": "execute_result"
    }
   ],
   "source": [
    "# construction du dataset global \n",
    "# on fusionne les deux datafram (dataset_hotel et dataset_city)\n",
    "dataset_kayak = dataset_city.join(dataset_hotel.set_index('city_id'), on ='city_id')\n",
    "dataset_kayak.head()"
   ]
  },
  {
   "cell_type": "code",
   "execution_count": 18,
   "id": "96a126b4-88e6-4d94-bba7-bdbcf62f6a1c",
   "metadata": {},
   "outputs": [],
   "source": [
    "dataset_kayak.to_csv('cities_hotel_wather.csv', index= False)"
   ]
  },
  {
   "cell_type": "code",
   "execution_count": 31,
   "id": "fd9713b1-d661-4fe5-a223-bb737c57fc6e",
   "metadata": {},
   "outputs": [
    {
     "data": {
      "text/html": [
       "<div>\n",
       "<style scoped>\n",
       "    .dataframe tbody tr th:only-of-type {\n",
       "        vertical-align: middle;\n",
       "    }\n",
       "\n",
       "    .dataframe tbody tr th {\n",
       "        vertical-align: top;\n",
       "    }\n",
       "\n",
       "    .dataframe thead th {\n",
       "        text-align: right;\n",
       "    }\n",
       "</style>\n",
       "<table border=\"1\" class=\"dataframe\">\n",
       "  <thead>\n",
       "    <tr style=\"text-align: right;\">\n",
       "      <th></th>\n",
       "      <th>city_id</th>\n",
       "      <th>city_name</th>\n",
       "      <th>city_latitude</th>\n",
       "      <th>city_longitude</th>\n",
       "      <th>city_temperature</th>\n",
       "      <th>city_weather7</th>\n",
       "    </tr>\n",
       "  </thead>\n",
       "  <tbody>\n",
       "    <tr>\n",
       "      <th>20</th>\n",
       "      <td>20</td>\n",
       "      <td>Marseille</td>\n",
       "      <td>43.296174</td>\n",
       "      <td>5.369953</td>\n",
       "      <td>11.137143</td>\n",
       "      <td>[Clouds, Clouds, Clouds, Clouds, Clouds, Cloud...</td>\n",
       "    </tr>\n",
       "    <tr>\n",
       "      <th>19</th>\n",
       "      <td>19</td>\n",
       "      <td>Cassis</td>\n",
       "      <td>43.214036</td>\n",
       "      <td>5.539632</td>\n",
       "      <td>11.042857</td>\n",
       "      <td>[Clouds, Clouds, Clouds, Clouds, Rain, Clouds,...</td>\n",
       "    </tr>\n",
       "    <tr>\n",
       "      <th>26</th>\n",
       "      <td>26</td>\n",
       "      <td>Saintes Maries de la mer</td>\n",
       "      <td>43.452277</td>\n",
       "      <td>4.428717</td>\n",
       "      <td>9.444286</td>\n",
       "      <td>[Clouds, Clouds, Clouds, Rain, Clouds, Clear, ...</td>\n",
       "    </tr>\n",
       "    <tr>\n",
       "      <th>18</th>\n",
       "      <td>18</td>\n",
       "      <td>Bormes les Mimosas</td>\n",
       "      <td>43.150697</td>\n",
       "      <td>6.341928</td>\n",
       "      <td>9.381429</td>\n",
       "      <td>[Clouds, Clouds, Clouds, Rain, Rain, Clouds, R...</td>\n",
       "    </tr>\n",
       "    <tr>\n",
       "      <th>27</th>\n",
       "      <td>27</td>\n",
       "      <td>Collioure</td>\n",
       "      <td>42.525050</td>\n",
       "      <td>3.083155</td>\n",
       "      <td>9.291429</td>\n",
       "      <td>[Rain, Clouds, Clouds, Rain, Clear, Clear, Rain]</td>\n",
       "    </tr>\n",
       "  </tbody>\n",
       "</table>\n",
       "</div>"
      ],
      "text/plain": [
       "    city_id                 city_name  city_latitude  city_longitude  \\\n",
       "20       20                 Marseille      43.296174        5.369953   \n",
       "19       19                    Cassis      43.214036        5.539632   \n",
       "26       26  Saintes Maries de la mer      43.452277        4.428717   \n",
       "18       18        Bormes les Mimosas      43.150697        6.341928   \n",
       "27       27                 Collioure      42.525050        3.083155   \n",
       "\n",
       "    city_temperature                                      city_weather7  \n",
       "20         11.137143  [Clouds, Clouds, Clouds, Clouds, Clouds, Cloud...  \n",
       "19         11.042857  [Clouds, Clouds, Clouds, Clouds, Rain, Clouds,...  \n",
       "26          9.444286  [Clouds, Clouds, Clouds, Rain, Clouds, Clear, ...  \n",
       "18          9.381429  [Clouds, Clouds, Clouds, Rain, Rain, Clouds, R...  \n",
       "27          9.291429   [Rain, Clouds, Clouds, Rain, Clear, Clear, Rain]  "
      ]
     },
     "execution_count": 31,
     "metadata": {},
     "output_type": "execute_result"
    }
   ],
   "source": [
    "## Top 5 cities \n",
    "top_5_cities= dataset_city.sort_values(by='city_temperature', ascending=False).iloc[:5,:]\n",
    "top_5_cities"
   ]
  },
  {
   "cell_type": "code",
   "execution_count": 20,
   "id": "c7cdf8c8-628f-4401-93cb-ec6b78addd3c",
   "metadata": {},
   "outputs": [
    {
     "data": {
      "text/html": [
       "<iframe\n",
       "    scrolling=\"no\"\n",
       "    width=\"100%\"\n",
       "    height=\"545px\"\n",
       "    src=\"iframe_figures/figure_20.html\"\n",
       "    frameborder=\"0\"\n",
       "    allowfullscreen\n",
       "></iframe>\n"
      ]
     },
     "metadata": {},
     "output_type": "display_data"
    }
   ],
   "source": [
    "# creation d'une carte qui affiche le top 5 cities avec scatter_mapbox\n",
    "df = top_5_cities\n",
    "size = df['city_temperature']\n",
    "\n",
    "fig = px.scatter_mapbox(df,lat='city_latitude', lon='city_longitude',color='city_temperature',size=size,\n",
    "                 size_max=15, zoom=3, mapbox_style=\"carto-positron\")\n",
    "\n",
    "fig.show()"
   ]
  },
  {
   "cell_type": "code",
   "execution_count": 21,
   "id": "1fdb4916-a2ab-4748-8d6b-c655a281df3a",
   "metadata": {},
   "outputs": [],
   "source": [
    "top_5_cities.to_csv('top_5_cities.csv', index= False)"
   ]
  },
  {
   "cell_type": "code",
   "execution_count": 22,
   "id": "4d2f7457-d4f7-4f62-93a8-0303eed4e86d",
   "metadata": {},
   "outputs": [
    {
     "data": {
      "text/html": [
       "<div>\n",
       "<style scoped>\n",
       "    .dataframe tbody tr th:only-of-type {\n",
       "        vertical-align: middle;\n",
       "    }\n",
       "\n",
       "    .dataframe tbody tr th {\n",
       "        vertical-align: top;\n",
       "    }\n",
       "\n",
       "    .dataframe thead th {\n",
       "        text-align: right;\n",
       "    }\n",
       "</style>\n",
       "<table border=\"1\" class=\"dataframe\">\n",
       "  <thead>\n",
       "    <tr style=\"text-align: right;\">\n",
       "      <th></th>\n",
       "      <th>city_id</th>\n",
       "      <th>hotel_name</th>\n",
       "      <th>hotel_lat</th>\n",
       "      <th>hotel_long</th>\n",
       "      <th>hotel_description</th>\n",
       "      <th>hotel_link</th>\n",
       "      <th>hotel_score</th>\n",
       "    </tr>\n",
       "  </thead>\n",
       "  <tbody>\n",
       "    <tr>\n",
       "      <th>161</th>\n",
       "      <td>16</td>\n",
       "      <td>Design and luxurious flat at the heart of Pres...</td>\n",
       "      <td>45.757814</td>\n",
       "      <td>4.832011</td>\n",
       "      <td>Hébergement géré par un particulier</td>\n",
       "      <td>https://www.booking.com/hotel/fr/design-and-lu...</td>\n",
       "      <td>10.0</td>\n",
       "    </tr>\n",
       "    <tr>\n",
       "      <th>188</th>\n",
       "      <td>18</td>\n",
       "      <td>Villa Les Alyzés</td>\n",
       "      <td>43.150697</td>\n",
       "      <td>6.341928</td>\n",
       "      <td>Hébergement géré par un particulier</td>\n",
       "      <td>https://www.booking.com/hotel/fr/villa-les-aly...</td>\n",
       "      <td>10.0</td>\n",
       "    </tr>\n",
       "    <tr>\n",
       "      <th>130</th>\n",
       "      <td>13</td>\n",
       "      <td>La Maison Des Ducs - Avec Terrasse - Coeur De ...</td>\n",
       "      <td>47.321581</td>\n",
       "      <td>5.041470</td>\n",
       "      <td>Hébergement géré par un particulier</td>\n",
       "      <td>https://www.booking.com/hotel/fr/the-dukes-hou...</td>\n",
       "      <td>10.0</td>\n",
       "    </tr>\n",
       "    <tr>\n",
       "      <th>201</th>\n",
       "      <td>20</td>\n",
       "      <td>Charmant Appart / Coeur de Marseille / 5 pers/...</td>\n",
       "      <td>43.296174</td>\n",
       "      <td>5.369953</td>\n",
       "      <td>In the Le Panier district of Marseille, close ...</td>\n",
       "      <td>https://www.booking.com/hotel/fr/charmant-appa...</td>\n",
       "      <td>10.0</td>\n",
       "    </tr>\n",
       "    <tr>\n",
       "      <th>205</th>\n",
       "      <td>20</td>\n",
       "      <td>Appartement Businessman</td>\n",
       "      <td>43.296174</td>\n",
       "      <td>5.369953</td>\n",
       "      <td>Ideally set in the centre of Marseille, Charma...</td>\n",
       "      <td>https://www.booking.com/hotel/fr/appartement-b...</td>\n",
       "      <td>10.0</td>\n",
       "    </tr>\n",
       "  </tbody>\n",
       "</table>\n",
       "</div>"
      ],
      "text/plain": [
       "     city_id                                         hotel_name  hotel_lat  \\\n",
       "161       16  Design and luxurious flat at the heart of Pres...  45.757814   \n",
       "188       18                                   Villa Les Alyzés  43.150697   \n",
       "130       13  La Maison Des Ducs - Avec Terrasse - Coeur De ...  47.321581   \n",
       "201       20  Charmant Appart / Coeur de Marseille / 5 pers/...  43.296174   \n",
       "205       20                            Appartement Businessman  43.296174   \n",
       "\n",
       "     hotel_long                                  hotel_description  \\\n",
       "161    4.832011                Hébergement géré par un particulier   \n",
       "188    6.341928                Hébergement géré par un particulier   \n",
       "130    5.041470                Hébergement géré par un particulier   \n",
       "201    5.369953  In the Le Panier district of Marseille, close ...   \n",
       "205    5.369953  Ideally set in the centre of Marseille, Charma...   \n",
       "\n",
       "                                            hotel_link  hotel_score  \n",
       "161  https://www.booking.com/hotel/fr/design-and-lu...         10.0  \n",
       "188  https://www.booking.com/hotel/fr/villa-les-aly...         10.0  \n",
       "130  https://www.booking.com/hotel/fr/the-dukes-hou...         10.0  \n",
       "201  https://www.booking.com/hotel/fr/charmant-appa...         10.0  \n",
       "205  https://www.booking.com/hotel/fr/appartement-b...         10.0  "
      ]
     },
     "execution_count": 22,
     "metadata": {},
     "output_type": "execute_result"
    }
   ],
   "source": [
    "## top 20 hotels\n",
    "### le critère choisi est celui du score de chaque hotel \n",
    "top_20_hotel = dataset_hotel.sort_values(by='hotel_score', ascending=False).iloc[:20,:]\n",
    "top_20_hotel.head()\n"
   ]
  },
  {
   "cell_type": "code",
   "execution_count": 23,
   "id": "23909b68-327f-4091-9501-96d8097ea4c9",
   "metadata": {},
   "outputs": [
    {
     "data": {
      "text/html": [
       "<iframe\n",
       "    scrolling=\"no\"\n",
       "    width=\"100%\"\n",
       "    height=\"545px\"\n",
       "    src=\"iframe_figures/figure_23.html\"\n",
       "    frameborder=\"0\"\n",
       "    allowfullscreen\n",
       "></iframe>\n"
      ]
     },
     "metadata": {},
     "output_type": "display_data"
    }
   ],
   "source": [
    "##  création d'une carte qui affiche les 20 meilleurs hotels des 35 villes\n",
    "df = top_20_hotel\n",
    "size = df['hotel_score']\n",
    "\n",
    "fig = px.scatter_mapbox(df,lat='hotel_lat', lon='hotel_long',color='hotel_score',size=size,\n",
    "                 size_max=15, zoom=3, mapbox_style=\"carto-positron\")\n",
    "\n",
    "fig.show()"
   ]
  },
  {
   "cell_type": "code",
   "execution_count": 24,
   "id": "f9bf8c5e-022a-4f02-acaa-6ea7bf07087d",
   "metadata": {},
   "outputs": [],
   "source": [
    "top_20_hotel.to_csv('top_20_hotels.csv', index= False)    "
   ]
  },
  {
   "cell_type": "markdown",
   "id": "638f00de-c58c-4e7b-94be-aa281efb552a",
   "metadata": {},
   "source": [
    "# 3) AWS S3"
   ]
  },
  {
   "cell_type": "markdown",
   "id": "13401236-a841-43fd-8639-9322015d196c",
   "metadata": {},
   "source": [
    "**Push on AWS S3**"
   ]
  },
  {
   "cell_type": "code",
   "execution_count": 21,
   "id": "5835a6d9-60d1-4168-bc75-e3bf9426279d",
   "metadata": {},
   "outputs": [],
   "source": [
    "!pip install boto3 -q\n",
    "import boto3\n",
    "import pandas as pd\n"
   ]
  },
  {
   "cell_type": "code",
   "execution_count": 24,
   "id": "6d434b91-aab2-4339-8656-532a52a2367c",
   "metadata": {},
   "outputs": [],
   "source": [
    "## Open session \n",
    "session = boto3.Session(aws_access_key_id= '************',\n",
    "                        aws_secret_access_key= '****************')\n",
    "# Run session\n",
    "s3 = session.resource(\"s3\")"
   ]
  },
  {
   "cell_type": "markdown",
   "id": "aaee807f-2569-4a73-a283-68631740d486",
   "metadata": {},
   "source": [
    "maintenant nous allons charger nos csv dans notre bucket(kayak-booking) S3"
   ]
  },
  {
   "cell_type": "code",
   "execution_count": 5,
   "id": "ba2cdf43-9a95-46ac-a2a0-c6304230bfad",
   "metadata": {},
   "outputs": [],
   "source": [
    "s3.meta.client.upload_file(Filename = \"top_20_hotels.csv\", Bucket= \"kayak-booking\", Key = \"kayak-booking\")"
   ]
  },
  {
   "cell_type": "code",
   "execution_count": 6,
   "id": "2ce14abd-ec52-43a5-b4a2-7531c4d17859",
   "metadata": {},
   "outputs": [],
   "source": [
    "s3.meta.client.upload_file(Filename = \"top_20_hotels.csv\", Bucket= \"kayak-booking\", Key = \"kayak-booking.csv\")"
   ]
  },
  {
   "cell_type": "code",
   "execution_count": 7,
   "id": "3c774b0e-fe4f-450a-aebd-6acb44338c15",
   "metadata": {},
   "outputs": [],
   "source": [
    "s3.meta.client.upload_file(Filename = 'cities_hotel_wather.csv', Bucket= \"kayak-booking\", Key = 'cities_hotel_wather.csv')"
   ]
  },
  {
   "cell_type": "markdown",
   "id": "5888bc27-b9dd-4368-86dc-2acb56f90598",
   "metadata": {},
   "source": [
    "**Pull from AWS S3**"
   ]
  },
  {
   "cell_type": "code",
   "execution_count": 22,
   "id": "71baa3dd-6774-41aa-abb1-cbd1d600eb5d",
   "metadata": {},
   "outputs": [],
   "source": [
    "from io import BytesIO\n",
    "import logging"
   ]
  },
  {
   "cell_type": "code",
   "execution_count": 12,
   "id": "d2ffb3a6-2e4c-40c0-8da5-72561a0e520c",
   "metadata": {},
   "outputs": [
    {
     "name": "stdout",
     "output_type": "stream",
     "text": [
      "s3.Object(bucket_name='kayak-booking', key='cities_hotel_weather.csv')\n"
     ]
    }
   ],
   "source": [
    "print(obj)"
   ]
  },
  {
   "cell_type": "code",
   "execution_count": 26,
   "id": "f2470dd7-3773-48d6-8e17-ec0d8acb0c76",
   "metadata": {},
   "outputs": [],
   "source": [
    "obj = s3.Object(\"kayak-booking\", \"cities_hotel_wather.csv\")# Upload file"
   ]
  },
  {
   "cell_type": "code",
   "execution_count": 15,
   "id": "a43b560a-2e69-4e2a-a825-8a891e80bb4c",
   "metadata": {},
   "outputs": [],
   "source": [
    "file_content = BytesIO(obj.get()['Body'].read())# Reading the File as String With Encoding"
   ]
  },
  {
   "cell_type": "code",
   "execution_count": 16,
   "id": "5d3ba438-6033-41a5-9df2-f2b0acae0d0e",
   "metadata": {},
   "outputs": [],
   "source": [
    "dataframe = pd.read_csv(file_content)"
   ]
  },
  {
   "cell_type": "code",
   "execution_count": 18,
   "id": "d34a438b-764f-4565-819b-64cf84800c35",
   "metadata": {},
   "outputs": [
    {
     "data": {
      "text/plain": [
       "Index(['city_id', 'city_name', 'city_latitude', 'city_longitude',\n",
       "       'city_temperature', 'city_weather7', 'hotel_name', 'hotel_lat',\n",
       "       'hotel_long', 'hotel_description', 'hotel_link', 'hotel_score'],\n",
       "      dtype='object')"
      ]
     },
     "execution_count": 18,
     "metadata": {},
     "output_type": "execute_result"
    }
   ],
   "source": [
    "dataframe.columns"
   ]
  },
  {
   "cell_type": "code",
   "execution_count": 19,
   "id": "931a8c3c-b63a-48f6-b9c9-8265ddee2779",
   "metadata": {},
   "outputs": [],
   "source": [
    "obj = s3.Object(\"kayak-booking\", \"kayak-booking.csv\")"
   ]
  },
  {
   "cell_type": "code",
   "execution_count": 20,
   "id": "bdd411b3-a5a8-40d0-9fc9-6e7acc0f7cda",
   "metadata": {},
   "outputs": [
    {
     "data": {
      "text/plain": [
       "Index(['city_id', 'hotel_name', 'hotel_lat', 'hotel_long', 'hotel_description',\n",
       "       'hotel_link', 'hotel_score'],\n",
       "      dtype='object')"
      ]
     },
     "execution_count": 20,
     "metadata": {},
     "output_type": "execute_result"
    }
   ],
   "source": [
    "file_content2 = BytesIO(obj.get()['Body'].read())\n",
    "dataframe2 = pd.read_csv(file_content2)\n",
    "dataframe2.columns"
   ]
  },
  {
   "cell_type": "code",
   "execution_count": null,
   "id": "77493050-2103-4be1-980e-77e1c17a4b4b",
   "metadata": {},
   "outputs": [],
   "source": []
  }
 ],
 "metadata": {
  "kernelspec": {
   "display_name": "Python 3 (ipykernel)",
   "language": "python",
   "name": "python3"
  },
  "language_info": {
   "codemirror_mode": {
    "name": "ipython",
    "version": 3
   },
   "file_extension": ".py",
   "mimetype": "text/x-python",
   "name": "python",
   "nbconvert_exporter": "python",
   "pygments_lexer": "ipython3",
   "version": "3.9.7"
  }
 },
 "nbformat": 4,
 "nbformat_minor": 5
}
